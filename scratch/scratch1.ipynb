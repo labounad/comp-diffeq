{
 "cells": [
  {
   "cell_type": "code",
   "execution_count": 1,
   "id": "initial_id",
   "metadata": {},
   "outputs": [],
   "source": [
    "import os\n",
    "import sys\n",
    "module_path = os.path.abspath(os.path.join('..'))\n",
    "if module_path not in sys.path:\n",
    "    sys.path.append(module_path)\n",
    "\n",
    "from oneD.oneD_galerkin import *"
   ]
  },
  {
   "cell_type": "code",
   "execution_count": 2,
   "id": "5e75d014-f0dc-47bd-8b87-84757e20b92f",
   "metadata": {},
   "outputs": [
    {
     "name": "stdout",
     "output_type": "stream",
     "text": [
      "[[0 1 2 3]\n",
      " [3 4 5 6]\n",
      " [6 7 8 9]]\n"
     ]
    }
   ],
   "source": [
    "elems = elem_indices(3, 3)\n",
    "print(elems)"
   ]
  },
  {
   "cell_type": "code",
   "execution_count": 3,
   "id": "12d371c1-1536-4d1b-b110-4e523026798b",
   "metadata": {},
   "outputs": [
    {
     "data": {
      "text/plain": [
       "array([0, 1, 2, 3])"
      ]
     },
     "execution_count": 3,
     "metadata": {},
     "output_type": "execute_result"
    }
   ],
   "source": [
    "elems[0]"
   ]
  },
  {
   "cell_type": "code",
   "execution_count": 4,
   "id": "7520c3c9-9fc2-4ab4-9a80-b1c69cd85e9d",
   "metadata": {},
   "outputs": [
    {
     "data": {
      "image/png": "[encoded data removed]",
      "text/plain": [
       "<Figure size 640x480 with 1 Axes>"
      ]
     },
     "metadata": {},
     "output_type": "display_data"
    },
    {
     "name": "stdout",
     "output_type": "stream",
     "text": [
      "[-0.57735027  0.57735027]\n"
     ]
    }
   ],
   "source": [
    "nodes, weights = np.polynomial.legendre.leggauss(2)\n",
    "plt.plot(nodes, weights)\n",
    "plt.show()\n",
    "print(nodes)"
   ]
  },
  {
   "cell_type": "code",
   "execution_count": 5,
   "id": "3522ce22-a747-4b1b-9a6e-0a63e7753a91",
   "metadata": {},
   "outputs": [
    {
     "data": {
      "text/latex": [
       "$x \\mapsto \\color{LightGray}{\\text{0.0}} - \\text{0.5}\\,x + \\text{0.5}\\,x^{2}$"
      ],
      "text/plain": [
       "Polynomial([ 0. , -0.5,  0.5], domain=[-1,  1], window=[-1,  1], symbol='x')"
      ]
     },
     "execution_count": 5,
     "metadata": {},
     "output_type": "execute_result"
    }
   ],
   "source": [
    "p1 = np.polynomial.Polynomial((0, -0.5, 0.5))\n",
    "p1"
   ]
  },
  {
   "cell_type": "code",
   "execution_count": 6,
   "id": "3f176524-8f2d-4acb-bb0e-f54d23399bff",
   "metadata": {},
   "outputs": [
    {
     "data": {
      "text/plain": [
       "0.0"
      ]
     },
     "execution_count": 6,
     "metadata": {},
     "output_type": "execute_result"
    }
   ],
   "source": [
    "p1(0)"
   ]
  },
  {
   "cell_type": "code",
   "execution_count": 7,
   "id": "ac7eba62-e83a-463d-adda-a2dcd00921f4",
   "metadata": {},
   "outputs": [
    {
     "data": {
      "text/plain": [
       "0.0"
      ]
     },
     "execution_count": 7,
     "metadata": {},
     "output_type": "execute_result"
    }
   ],
   "source": [
    "p1.domain = np.array([0, 5])\n",
    "p1(2.5)"
   ]
  },
  {
   "cell_type": "code",
   "execution_count": 62,
   "id": "81923c5e-819a-4018-a33e-fe9135b397b2",
   "metadata": {},
   "outputs": [
    {
     "data": {
      "text/plain": [
       "(Polynomial([ 1., -1.], domain=[0., 1.], window=[0., 1.], symbol='x'),\n",
       " Polynomial([0., 1.], domain=[0., 1.], window=[0., 1.], symbol='x'))"
      ]
     },
     "execution_count": 62,
     "metadata": {},
     "output_type": "execute_result"
    }
   ],
   "source": [
    "b = local_basis(1)\n",
    "b"
   ]
  },
  {
   "cell_type": "code",
   "execution_count": 37,
   "id": "5c7fd832-b4ed-4987-b4a9-93e31c744378",
   "metadata": {},
   "outputs": [
    {
     "data": {
      "text/plain": [
       "array([[2.],\n",
       "       [0.]])"
      ]
     },
     "execution_count": 37,
     "metadata": {},
     "output_type": "execute_result"
    }
   ],
   "source": [
    "leggauss_nodes, leggauss_weights = np.polynomial.legendre.leggauss(1)\n",
    "np.array([leggauss_weights * p(leggauss_nodes) for p in b])"
   ]
  },
  {
   "cell_type": "code",
   "execution_count": 32,
   "id": "76eb7520-7116-4c95-b38f-0316fccf85ac",
   "metadata": {},
   "outputs": [
    {
     "data": {
      "text/plain": [
       "array([[2.],\n",
       "       [0.]])"
      ]
     },
     "execution_count": 32,
     "metadata": {},
     "output_type": "execute_result"
    }
   ],
   "source": [
    "int_factors = np.array([leggauss_weights * p(leggauss_nodes) for p in b])\n",
    "int_factors"
   ]
  },
  {
   "cell_type": "code",
   "execution_count": 34,
   "id": "8291c318-cc87-46aa-8bec-285d22c5b9e0",
   "metadata": {},
   "outputs": [
    {
     "name": "stdout",
     "output_type": "stream",
     "text": [
      "[[ 0  1]\n",
      " [ 1  2]\n",
      " [ 2  3]\n",
      " [ 3  4]\n",
      " [ 4  5]\n",
      " [ 5  6]\n",
      " [ 6  7]\n",
      " [ 7  8]\n",
      " [ 8  9]\n",
      " [ 9 10]]\n"
     ]
    },
    {
     "data": {
      "text/plain": [
       "array([0. , 0.1, 0.2, 0.3, 0.4, 0.5, 0.6, 0.7, 0.8, 0.9, 1. ])"
      ]
     },
     "execution_count": 34,
     "metadata": {},
     "output_type": "execute_result"
    }
   ],
   "source": [
    "n_elem = 10\n",
    "polydeg = 1\n",
    "\n",
    "x_start = 0\n",
    "x_end = 1\n",
    "elems = elem_indices(n_elem, polydeg)\n",
    "print(elems)\n",
    "\n",
    "nodes = n_elem * polydeg + 1\n",
    "x_coords = np.linspace(x_start, x_end, nodes)\n",
    "\n",
    "end_points = np.append(x_coords[elems[:, 0]], x_coords[-1])\n",
    "end_points"
   ]
  },
  {
   "cell_type": "code",
   "execution_count": 35,
   "id": "c65474d4-922d-4c84-b9a8-ed569f2d25fa",
   "metadata": {},
   "outputs": [
    {
     "data": {
      "text/plain": [
       "array([[0.05],\n",
       "       [0.15],\n",
       "       [0.25],\n",
       "       [0.35],\n",
       "       [0.45],\n",
       "       [0.55],\n",
       "       [0.65],\n",
       "       [0.75],\n",
       "       [0.85],\n",
       "       [0.95]])"
      ]
     },
     "execution_count": 35,
     "metadata": {},
     "output_type": "execute_result"
    }
   ],
   "source": [
    "transformed_nodes = (np.array((0.5*np.array([np.diff(end_points)])).T @ [leggauss_nodes + 1]) + end_points[:-1][:, np.newaxis])\n",
    "transformed_nodes"
   ]
  },
  {
   "cell_type": "code",
   "execution_count": 13,
   "id": "9e59e03a-ff10-47e5-97e6-04ee9a30fccc",
   "metadata": {},
   "outputs": [
    {
     "data": {
      "text/plain": [
       "array([[ 1.75747393,  6.01113089],\n",
       "       [ 8.0771654 ,  8.8239821 ],\n",
       "       [ 7.73780348,  4.3620822 ],\n",
       "       [ 1.01916814, -3.69604693],\n",
       "       [-6.53969947, -8.70704595],\n",
       "       [-8.70704595, -6.53969947],\n",
       "       [-3.69604693,  1.01916814],\n",
       "       [ 4.3620822 ,  7.73780348],\n",
       "       [ 8.8239821 ,  8.0771654 ],\n",
       "       [ 6.01113089,  1.75747393]])"
      ]
     },
     "execution_count": 13,
     "metadata": {},
     "output_type": "execute_result"
    }
   ],
   "source": [
    "source_component = np.diff(end_points)[:, np.newaxis] * TestParams.source(transformed_nodes)\n",
    "source_component"
   ]
  },
  {
   "cell_type": "code",
   "execution_count": 14,
   "id": "6aeae531-2d4a-4bb9-b4b3-03bf236dd7a9",
   "metadata": {},
   "outputs": [
    {
     "name": "stdout",
     "output_type": "stream",
     "text": [
      "[[  0.06684247   5.17906988   2.52269246]\n",
      " [  2.6012705   11.26743166   3.03244533]\n",
      " [  2.99113441   8.06659045   1.04216082]\n",
      " [  0.91501888  -1.78458586  -1.80731181]\n",
      " [ -1.9154652  -10.16449695  -3.16678327]\n",
      " [ -3.16678327 -10.16449695  -1.9154652 ]\n",
      " [ -1.80731181  -1.78458586   0.91501888]\n",
      " [  1.04216082   8.06659045   2.99113441]\n",
      " [  3.03244533  11.26743166   2.6012705 ]\n",
      " [  2.52269246   5.17906988   0.06684247]]\n"
     ]
    }
   ],
   "source": [
    "print(source_component @ int_factors.T)"
   ]
  },
  {
   "cell_type": "code",
   "execution_count": 22,
   "id": "4e6b2f01-0ec9-4287-8fd5-060cbcec2ab0",
   "metadata": {},
   "outputs": [
    {
     "name": "stdout",
     "output_type": "stream",
     "text": [
      "[[ 1.75747393  6.01113089]\n",
      " [ 8.0771654   8.8239821 ]\n",
      " [ 7.73780348  4.3620822 ]\n",
      " [ 1.01916814 -3.69604693]\n",
      " [-6.53969947 -8.70704595]\n",
      " [-8.70704595 -6.53969947]\n",
      " [-3.69604693  1.01916814]\n",
      " [ 4.3620822   7.73780348]\n",
      " [ 8.8239821   8.0771654 ]\n",
      " [ 6.01113089  1.75747393]]\n",
      "[  0.06684247   5.17906988   5.12396297  11.26743166   6.02357973\n",
      "   8.06659045   1.9571797   -1.78458586  -3.72277701 -10.16449695\n",
      "  -6.33356654 -10.16449695  -3.72277701  -1.78458586   1.9571797\n",
      "   8.06659045   6.02357973  11.26743166   5.12396297   5.17906988\n",
      "   0.06684247]\n"
     ]
    }
   ],
   "source": [
    "source_component = prep_gauss_quadrature(TestParams.source, end_points, leggauss_nodes)\n",
    "integral_matrix = source_component @ int_factors.T\n",
    "print(source_component)\n",
    "\n",
    "print(accumulate_by_index(integral_matrix, elems))"
   ]
  },
  {
   "cell_type": "code",
   "execution_count": 15,
   "id": "a473c08b-bb42-40dc-ad54-821ec4f98af9",
   "metadata": {},
   "outputs": [
    {
     "name": "stdout",
     "output_type": "stream",
     "text": [
      "[[ 0  1  2]\n",
      " [ 2  3  4]\n",
      " [ 4  5  6]\n",
      " [ 6  7  8]\n",
      " [ 8  9 10]\n",
      " [10 11 12]\n",
      " [12 13 14]\n",
      " [14 15 16]\n",
      " [16 17 18]\n",
      " [18 19 20]]\n"
     ]
    }
   ],
   "source": [
    "print(elems)"
   ]
  },
  {
   "cell_type": "code",
   "execution_count": 16,
   "id": "b7a75e09-265c-4f7a-9266-f97e6f52901f",
   "metadata": {},
   "outputs": [
    {
     "name": "stdout",
     "output_type": "stream",
     "text": [
      "[ 0  1  2  2  3  4  4  5  6  6  7  8  8  9 10 10 11 12 12 13 14 14 15 16\n",
      " 16 17 18 18 19 20]\n",
      "[  0.06684247   5.17906988   2.52269246   2.6012705   11.26743166\n",
      "   3.03244533   2.99113441   8.06659045   1.04216082   0.91501888\n",
      "  -1.78458586  -1.80731181  -1.9154652  -10.16449695  -3.16678327\n",
      "  -6.33356654 -20.32899389  -3.8309304   -3.61462362  -3.56917172\n",
      "   1.83003776   2.08432164  16.1331809    5.98226881   6.06489065\n",
      "  22.53486333   5.20254101   5.04538493  10.35813975   0.13368495]\n",
      "___\n",
      "\n",
      "[  0.06684247   5.17906988   5.12396296  11.26743166   6.02357974\n",
      "   8.06659045   1.9571797   -1.78458586  -3.72277701 -10.16449695\n",
      "  -9.50034981 -20.32899389  -7.44555402  -3.56917172   3.9143594\n",
      "  16.1331809   12.04715946  22.53486333  10.24792594  10.35813975\n",
      "   0.13368495]\n"
     ]
    }
   ],
   "source": [
    "# Your example A:\n",
    "A = np.array([\n",
    "    [ 0.06684247,   5.17906988,   2.52269246],\n",
    "    [ 2.6012705 ,  11.26743166,   3.03244533],\n",
    "    [ 2.99113441,   8.06659045,   1.04216082],\n",
    "    [ 0.91501888,  -1.78458586,  -1.80731181],\n",
    "    [-1.9154652 , -10.16449695,  -3.16678327],\n",
    "    [-6.33356654, -20.32899389,  -3.8309304 ],\n",
    "    [-3.61462362,  -3.56917172,   1.83003776],\n",
    "    [ 2.08432164,  16.1331809 ,   5.98226881],\n",
    "    [ 6.06489065,  22.53486333,   5.20254101],\n",
    "    [ 5.04538493,  10.35813975,   0.13368495]\n",
    "])\n",
    "\n",
    "# And the indices mapping array you provided:\n",
    "indices = np.array([\n",
    "    [ 0,  1,  2],\n",
    "    [ 2,  3,  4],\n",
    "    [ 4,  5,  6],\n",
    "    [ 6,  7,  8],\n",
    "    [ 8,  9, 10],\n",
    "    [10, 11, 12],\n",
    "    [12, 13, 14],\n",
    "    [14, 15, 16],\n",
    "    [16, 17, 18],\n",
    "    [18, 19, 20]\n",
    "])\n",
    "\n",
    "# Flatten indices and data arrays:\n",
    "flat_indices = indices.ravel()\n",
    "print(flat_indices)\n",
    "flat_values = A.ravel()\n",
    "print(flat_values)\n",
    "print('___')\n",
    "print()\n",
    "\n",
    "# Compute the accumulation using np.bincount:\n",
    "result_length = flat_indices.max() + 1\n",
    "result = np.bincount(flat_indices, weights=flat_values, minlength=result_length)\n",
    "\n",
    "print(result)"
   ]
  },
  {
   "cell_type": "code",
   "execution_count": 87,
   "id": "ed790d39-04f2-45f2-a166-bd0dd43dd23f",
   "metadata": {},
   "outputs": [
    {
     "name": "stdout",
     "output_type": "stream",
     "text": [
      "0.0\n",
      "1.0\n",
      "\n",
      "\n",
      "0.5\n",
      "0.5\n"
     ]
    }
   ],
   "source": [
    "p0, p1 = local_basis(1)\n",
    "print(p1(0))\n",
    "print(p1.deriv()(0))\n",
    "print('\\n')\n",
    "p1.domain = np.array([-1, 1])\n",
    "print(p1(0))\n",
    "print(p1.deriv()(0))"
   ]
  },
  {
   "cell_type": "code",
   "execution_count": 86,
   "id": "1d26f0d3-1860-4c26-b758-b3e707030420",
   "metadata": {},
   "outputs": [
    {
     "name": "stdout",
     "output_type": "stream",
     "text": [
      "(array([0, 0, 1]), array([0, 1, 1]))\n",
      "[[0 0]\n",
      " [0 1]\n",
      " [1 1]]\n"
     ]
    }
   ],
   "source": [
    "\n",
    "vec = np.array([0, 1])\n",
    "\n",
    "# Generate all unique pairs (i,j) with i <= j\n",
    "i_indices, j_indices = np.triu_indices(len(vec))\n",
    "\n",
    "print(np.triu_indices(2))\n",
    "\n",
    "# Stack pairs into a matrix\n",
    "pairs = np.column_stack((vec[i_indices], vec[j_indices]))\n",
    "\n",
    "print(pairs)"
   ]
  }
 ],
 "metadata": {
  "kernelspec": {
   "display_name": "Python 3 (ipykernel)",
   "language": "python",
   "name": "python3"
  },
  "language_info": {
   "codemirror_mode": {
    "name": "ipython",
    "version": 3
   },
   "file_extension": ".py",
   "mimetype": "text/x-python",
   "name": "python",
   "nbconvert_exporter": "python",
   "pygments_lexer": "ipython3",
   "version": "3.11.7"
  }
 },
 "nbformat": 4,
 "nbformat_minor": 5
}
