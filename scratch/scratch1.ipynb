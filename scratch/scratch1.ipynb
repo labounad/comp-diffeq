{
 "cells": [
  {
   "cell_type": "code",
   "execution_count": 1,
   "id": "initial_id",
   "metadata": {},
   "outputs": [],
   "source": [
    "import os\n",
    "import sys\n",
    "module_path = os.path.abspath(os.path.join('..'))\n",
    "if module_path not in sys.path:\n",
    "    sys.path.append(module_path)\n",
    "\n",
    "from fem.fem1d import *"
   ]
  },
  {
   "cell_type": "code",
   "execution_count": 2,
   "id": "5e75d014-f0dc-47bd-8b87-84757e20b92f",
   "metadata": {},
   "outputs": [
    {
     "name": "stdout",
     "output_type": "stream",
     "text": [
      "[[0 1 2 3]\n",
      " [3 4 5 6]\n",
      " [6 7 8 9]]\n"
     ]
    }
   ],
   "source": [
    "elems = elem_indices(3, 3)\n",
    "print(elems)"
   ]
  },
  {
   "cell_type": "code",
   "execution_count": 3,
   "id": "12d371c1-1536-4d1b-b110-4e523026798b",
   "metadata": {},
   "outputs": [
    {
     "data": {
      "text/plain": [
       "array([0, 1, 2, 3])"
      ]
     },
     "execution_count": 3,
     "metadata": {},
     "output_type": "execute_result"
    }
   ],
   "source": [
    "elems[0]"
   ]
  },
  {
   "cell_type": "code",
   "execution_count": 4,
   "id": "7520c3c9-9fc2-4ab4-9a80-b1c69cd85e9d",
   "metadata": {},
   "outputs": [
    {
     "data": {
      "image/png": "[encoded data removed]",
      "text/plain": [
       "<Figure size 640x480 with 1 Axes>"
      ]
     },
     "metadata": {},
     "output_type": "display_data"
    },
    {
     "name": "stdout",
     "output_type": "stream",
     "text": [
      "[-0.57735027  0.57735027]\n"
     ]
    }
   ],
   "source": [
    "nodes, weights = np.polynomial.legendre.leggauss(2)\n",
    "plt.plot(nodes, weights)\n",
    "plt.show()\n",
    "print(nodes)"
   ]
  },
  {
   "cell_type": "code",
   "execution_count": 5,
   "id": "3522ce22-a747-4b1b-9a6e-0a63e7753a91",
   "metadata": {},
   "outputs": [
    {
     "data": {
      "text/latex": [
       "$x \\mapsto \\color{LightGray}{\\text{0.0}} - \\text{0.5}\\,x + \\text{0.5}\\,x^{2}$"
      ],
      "text/plain": [
       "Polynomial([ 0. , -0.5,  0.5], domain=[-1,  1], window=[-1,  1], symbol='x')"
      ]
     },
     "execution_count": 5,
     "metadata": {},
     "output_type": "execute_result"
    }
   ],
   "source": [
    "p1 = np.polynomial.Polynomial((0, -0.5, 0.5))\n",
    "p1"
   ]
  },
  {
   "cell_type": "code",
   "execution_count": 6,
   "id": "3f176524-8f2d-4acb-bb0e-f54d23399bff",
   "metadata": {},
   "outputs": [
    {
     "data": {
      "text/plain": [
       "0.0"
      ]
     },
     "execution_count": 6,
     "metadata": {},
     "output_type": "execute_result"
    }
   ],
   "source": [
    "p1(0)"
   ]
  },
  {
   "cell_type": "code",
   "execution_count": 7,
   "id": "ac7eba62-e83a-463d-adda-a2dcd00921f4",
   "metadata": {},
   "outputs": [
    {
     "data": {
      "text/plain": [
       "0.0"
      ]
     },
     "execution_count": 7,
     "metadata": {},
     "output_type": "execute_result"
    }
   ],
   "source": [
    "p1.domain = np.array([0, 5])\n",
    "p1(2.5)"
   ]
  },
  {
   "cell_type": "code",
   "execution_count": 8,
   "id": "81923c5e-819a-4018-a33e-fe9135b397b2",
   "metadata": {},
   "outputs": [
    {
     "data": {
      "text/plain": [
       "[Polynomial([ 0. , -0.5,  0.5], domain=[-1.,  1.], window=[-1.,  1.], symbol='x'),\n",
       " Polynomial([ 1.,  0., -1.], domain=[-1.,  1.], window=[-1.,  1.], symbol='x'),\n",
       " Polynomial([0. , 0.5, 0.5], domain=[-1.,  1.], window=[-1.,  1.], symbol='x')]"
      ]
     },
     "execution_count": 8,
     "metadata": {},
     "output_type": "execute_result"
    }
   ],
   "source": [
    "b = local_basis(2)\n",
    "b"
   ]
  },
  {
   "cell_type": "code",
   "execution_count": 9,
   "id": "5c7fd832-b4ed-4987-b4a9-93e31c744378",
   "metadata": {},
   "outputs": [
    {
     "data": {
      "text/plain": [
       "array([[ 0.4553418 , -0.12200847],\n",
       "       [ 0.66666667,  0.66666667],\n",
       "       [-0.12200847,  0.4553418 ]])"
      ]
     },
     "execution_count": 9,
     "metadata": {},
     "output_type": "execute_result"
    }
   ],
   "source": [
    "leggauss_nodes, leggauss_weights = np.polynomial.legendre.leggauss(2)\n",
    "np.array([leggauss_weights * p(leggauss_nodes) for p in b])"
   ]
  },
  {
   "cell_type": "code",
   "execution_count": 10,
   "id": "76eb7520-7116-4c95-b38f-0316fccf85ac",
   "metadata": {},
   "outputs": [
    {
     "data": {
      "text/plain": [
       "array([[ 0.4553418 , -0.12200847],\n",
       "       [ 0.66666667,  0.66666667],\n",
       "       [-0.12200847,  0.4553418 ]])"
      ]
     },
     "execution_count": 10,
     "metadata": {},
     "output_type": "execute_result"
    }
   ],
   "source": [
    "int_factors = np.array([leggauss_weights * p(leggauss_nodes) for p in b])\n",
    "int_factors"
   ]
  },
  {
   "cell_type": "code",
   "execution_count": 11,
   "id": "8291c318-cc87-46aa-8bec-285d22c5b9e0",
   "metadata": {},
   "outputs": [
    {
     "name": "stdout",
     "output_type": "stream",
     "text": [
      "[[ 0  1  2]\n",
      " [ 2  3  4]\n",
      " [ 4  5  6]\n",
      " [ 6  7  8]\n",
      " [ 8  9 10]\n",
      " [10 11 12]\n",
      " [12 13 14]\n",
      " [14 15 16]\n",
      " [16 17 18]\n",
      " [18 19 20]]\n"
     ]
    },
    {
     "data": {
      "text/plain": [
       "array([0. , 0.1, 0.2, 0.3, 0.4, 0.5, 0.6, 0.7, 0.8, 0.9, 1. ])"
      ]
     },
     "execution_count": 11,
     "metadata": {},
     "output_type": "execute_result"
    }
   ],
   "source": [
    "n_elem = 10\n",
    "polydeg = 2\n",
    "\n",
    "x_start = 0\n",
    "x_end = 1\n",
    "elems = elem_indices(n_elem, polydeg)\n",
    "print(elems)\n",
    "\n",
    "nodes = n_elem * polydeg + 1\n",
    "x_coords = np.linspace(x_start, x_end, nodes)\n",
    "\n",
    "end_points = np.append(x_coords[elems[:, 0]], x_coords[-1])\n",
    "end_points"
   ]
  },
  {
   "cell_type": "code",
   "execution_count": 12,
   "id": "c65474d4-922d-4c84-b9a8-ed569f2d25fa",
   "metadata": {},
   "outputs": [
    {
     "data": {
      "text/plain": [
       "array([[0.02113249, 0.07886751],\n",
       "       [0.12113249, 0.17886751],\n",
       "       [0.22113249, 0.27886751],\n",
       "       [0.32113249, 0.37886751],\n",
       "       [0.42113249, 0.47886751],\n",
       "       [0.52113249, 0.57886751],\n",
       "       [0.62113249, 0.67886751],\n",
       "       [0.72113249, 0.77886751],\n",
       "       [0.82113249, 0.87886751],\n",
       "       [0.92113249, 0.97886751]])"
      ]
     },
     "execution_count": 12,
     "metadata": {},
     "output_type": "execute_result"
    }
   ],
   "source": [
    "transformed_nodes = (np.array((0.5*np.array([np.diff(end_points)])).T @ [leggauss_nodes + 1]) + end_points[:-1][:, np.newaxis])\n",
    "transformed_nodes"
   ]
  },
  {
   "cell_type": "code",
   "execution_count": 13,
   "id": "9e59e03a-ff10-47e5-97e6-04ee9a30fccc",
   "metadata": {},
   "outputs": [
    {
     "data": {
      "text/plain": [
       "array([[ 21.67442931,  47.71538468],\n",
       "       [ 22.23556487, -34.41836953],\n",
       "       [-47.81390353,  -7.25416464],\n",
       "       [ 33.97304983,  42.94615152],\n",
       "       [  7.8761882 , -43.23206437],\n",
       "       [-43.23206437,   7.8761882 ],\n",
       "       [ 42.94615152,  33.97304983],\n",
       "       [ -7.25416464, -47.81390353],\n",
       "       [-34.41836953,  22.23556487],\n",
       "       [ 47.71538468,  21.67442931]])"
      ]
     },
     "execution_count": 13,
     "metadata": {},
     "output_type": "execute_result"
    }
   ],
   "source": [
    "source_component = np.diff(end_points)[:, np.newaxis] * TestParams.source(transformed_nodes)\n",
    "source_component"
   ]
  },
  {
   "cell_type": "code",
   "execution_count": 14,
   "id": "6aeae531-2d4a-4bb9-b4b3-03bf236dd7a9",
   "metadata": {},
   "outputs": [
    {
     "name": "stdout",
     "output_type": "stream",
     "text": [
      "[[  4.0475927   46.259876    19.08234529]\n",
      " [ 14.3241147   -8.12186977 -18.38504958]\n",
      " [-20.88659945 -36.71204545   2.53057672]\n",
      " [ 10.22955555  51.27946757  15.41017823]\n",
      " [  8.86103566 -23.57058411 -20.64632772]\n",
      " [-20.64632772 -23.57058411   8.86103566]\n",
      " [ 15.41017823  51.27946757  10.22955555]\n",
      " [  2.53057672 -36.71204545 -20.88659945]\n",
      " [-18.38504958  -8.12186977  14.3241147 ]\n",
      " [ 19.08234529  46.259876     4.0475927 ]]\n"
     ]
    }
   ],
   "source": [
    "print(source_component @ int_factors.T)"
   ]
  },
  {
   "cell_type": "code",
   "execution_count": 15,
   "id": "4e6b2f01-0ec9-4287-8fd5-060cbcec2ab0",
   "metadata": {},
   "outputs": [
    {
     "name": "stdout",
     "output_type": "stream",
     "text": [
      "[[ 10.83721466  23.85769234]\n",
      " [ 11.11778244 -17.20918476]\n",
      " [-23.90695177  -3.62708232]\n",
      " [ 16.98652491  21.47307576]\n",
      " [  3.9380941  -21.61603218]\n",
      " [-21.61603218   3.9380941 ]\n",
      " [ 21.47307576  16.98652491]\n",
      " [ -3.62708232 -23.90695177]\n",
      " [-17.20918476  11.11778244]\n",
      " [ 23.85769234  10.83721466]]\n",
      "[  2.02379635  23.129938    16.70323     -4.06093489 -19.63582451\n",
      " -18.35602273   6.38006614  25.63973378  12.13560695 -11.78529206\n",
      " -20.64632772 -11.78529206  12.13560695  25.63973378   6.38006614\n",
      " -18.35602273 -19.63582451  -4.06093489  16.70323     23.129938\n",
      "   2.02379635]\n"
     ]
    }
   ],
   "source": [
    "source_component = prep_gauss_quadrature(TestParams.source, end_points, leggauss_nodes)\n",
    "integral_matrix = source_component @ int_factors.T\n",
    "print(source_component)\n",
    "\n",
    "print(accumulate_by_index(integral_matrix, elems))"
   ]
  },
  {
   "cell_type": "code",
   "execution_count": 16,
   "id": "a473c08b-bb42-40dc-ad54-821ec4f98af9",
   "metadata": {},
   "outputs": [
    {
     "name": "stdout",
     "output_type": "stream",
     "text": [
      "[[ 0  1  2]\n",
      " [ 2  3  4]\n",
      " [ 4  5  6]\n",
      " [ 6  7  8]\n",
      " [ 8  9 10]\n",
      " [10 11 12]\n",
      " [12 13 14]\n",
      " [14 15 16]\n",
      " [16 17 18]\n",
      " [18 19 20]]\n"
     ]
    }
   ],
   "source": [
    "print(elems)"
   ]
  },
  {
   "cell_type": "code",
   "execution_count": 17,
   "id": "b7a75e09-265c-4f7a-9266-f97e6f52901f",
   "metadata": {},
   "outputs": [
    {
     "name": "stdout",
     "output_type": "stream",
     "text": [
      "[ 0  1  2  2  3  4  4  5  6  6  7  8  8  9 10 10 11 12 12 13 14 14 15 16\n",
      " 16 17 18 18 19 20]\n",
      "[  0.06684247   5.17906988   2.52269246   2.6012705   11.26743166\n",
      "   3.03244533   2.99113441   8.06659045   1.04216082   0.91501888\n",
      "  -1.78458586  -1.80731181  -1.9154652  -10.16449695  -3.16678327\n",
      "  -6.33356654 -20.32899389  -3.8309304   -3.61462362  -3.56917172\n",
      "   1.83003776   2.08432164  16.1331809    5.98226881   6.06489065\n",
      "  22.53486333   5.20254101   5.04538493  10.35813975   0.13368495]\n",
      "___\n",
      "\n",
      "[  0.06684247   5.17906988   5.12396296  11.26743166   6.02357974\n",
      "   8.06659045   1.9571797   -1.78458586  -3.72277701 -10.16449695\n",
      "  -9.50034981 -20.32899389  -7.44555402  -3.56917172   3.9143594\n",
      "  16.1331809   12.04715946  22.53486333  10.24792594  10.35813975\n",
      "   0.13368495]\n"
     ]
    }
   ],
   "source": [
    "# Your example A:\n",
    "A = np.array([\n",
    "    [ 0.06684247,   5.17906988,   2.52269246],\n",
    "    [ 2.6012705 ,  11.26743166,   3.03244533],\n",
    "    [ 2.99113441,   8.06659045,   1.04216082],\n",
    "    [ 0.91501888,  -1.78458586,  -1.80731181],\n",
    "    [-1.9154652 , -10.16449695,  -3.16678327],\n",
    "    [-6.33356654, -20.32899389,  -3.8309304 ],\n",
    "    [-3.61462362,  -3.56917172,   1.83003776],\n",
    "    [ 2.08432164,  16.1331809 ,   5.98226881],\n",
    "    [ 6.06489065,  22.53486333,   5.20254101],\n",
    "    [ 5.04538493,  10.35813975,   0.13368495]\n",
    "])\n",
    "\n",
    "# And the indices mapping array you provided:\n",
    "indices = np.array([\n",
    "    [ 0,  1,  2],\n",
    "    [ 2,  3,  4],\n",
    "    [ 4,  5,  6],\n",
    "    [ 6,  7,  8],\n",
    "    [ 8,  9, 10],\n",
    "    [10, 11, 12],\n",
    "    [12, 13, 14],\n",
    "    [14, 15, 16],\n",
    "    [16, 17, 18],\n",
    "    [18, 19, 20]\n",
    "])\n",
    "\n",
    "# Flatten indices and data arrays:\n",
    "flat_indices = indices.ravel()\n",
    "print(flat_indices)\n",
    "flat_values = A.ravel()\n",
    "print(flat_values)\n",
    "print('___')\n",
    "print()\n",
    "\n",
    "# Compute the accumulation using np.bincount:\n",
    "result_length = flat_indices.max() + 1\n",
    "result = np.bincount(flat_indices, weights=flat_values, minlength=result_length)\n",
    "\n",
    "print(result)"
   ]
  },
  {
   "cell_type": "code",
   "execution_count": 18,
   "id": "ed790d39-04f2-45f2-a166-bd0dd43dd23f",
   "metadata": {},
   "outputs": [
    {
     "name": "stdout",
     "output_type": "stream",
     "text": [
      "0.5\n",
      "0.5\n",
      "\n",
      "\n",
      "0.5\n",
      "0.5\n"
     ]
    }
   ],
   "source": [
    "p0, p1 = local_basis(1)\n",
    "print(p1(0))\n",
    "print(p1.deriv()(0))\n",
    "print('\\n')\n",
    "p1.domain = np.array([-1, 1])\n",
    "print(p1(0))\n",
    "print(p1.deriv()(0))"
   ]
  },
  {
   "cell_type": "code",
   "execution_count": 19,
   "id": "1d26f0d3-1860-4c26-b758-b3e707030420",
   "metadata": {},
   "outputs": [
    {
     "name": "stdout",
     "output_type": "stream",
     "text": [
      "(array([0, 0, 0, 1, 1, 2]), array([0, 1, 2, 1, 2, 2]))\n",
      "[[0 0]\n",
      " [0 1]\n",
      " [0 2]\n",
      " [1 1]\n",
      " [1 2]\n",
      " [2 2]]\n"
     ]
    }
   ],
   "source": [
    "\n",
    "vec = np.array([0, 1, 2])\n",
    "\n",
    "# Generate all unique pairs (i,j) with i <= j\n",
    "i_indices, j_indices = np.triu_indices(len(vec))\n",
    "\n",
    "print(np.triu_indices(len(vec)))\n",
    "\n",
    "# Stack pairs into a matrix\n",
    "pairs = np.column_stack((vec[i_indices], vec[j_indices]))\n",
    "\n",
    "print(pairs)"
   ]
  },
  {
   "cell_type": "code",
   "execution_count": 20,
   "id": "6d417bc3de2c91c8",
   "metadata": {
    "collapsed": false,
    "is_executing": true,
    "jupyter": {
     "outputs_hidden": false
    }
   },
   "outputs": [],
   "source": [
    "basis = local_basis(2)\n",
    "basis_derivs = [p.deriv() for p in basis] \n",
    "basis_deriv_vals = np.array([p(leggauss_nodes) for p in basis_derivs])"
   ]
  },
  {
   "cell_type": "code",
   "execution_count": 21,
   "id": "f89df6be6077d2aa",
   "metadata": {
    "collapsed": false,
    "jupyter": {
     "outputs_hidden": false
    }
   },
   "outputs": [
    {
     "data": {
      "text/plain": [
       "array([[ 1.1606836 ,  0.00598306],\n",
       "       [-1.24401694, -0.0893164 ],\n",
       "       [ 0.08333333,  0.08333333],\n",
       "       [ 1.33333333,  1.33333333],\n",
       "       [-0.0893164 , -1.24401694],\n",
       "       [ 0.00598306,  1.1606836 ]])"
      ]
     },
     "execution_count": 21,
     "metadata": {},
     "output_type": "execute_result"
    }
   ],
   "source": [
    "np.prod(basis_deriv_vals[pairs], axis=1)"
   ]
  },
  {
   "cell_type": "code",
   "execution_count": 22,
   "id": "3c896dca-1dc5-4362-bb4f-92d6beadeb46",
   "metadata": {},
   "outputs": [],
   "source": [
    "basis1 = local_basis(1)\n",
    "basis1_derivs = [p.deriv() for p in basis1]\n",
    "basis1_deriv_vals = np.array([p(leggauss_nodes) for p in basis1_derivs])"
   ]
  },
  {
   "cell_type": "code",
   "execution_count": 23,
   "id": "176846ab-1471-42dd-ad46-809135806cbd",
   "metadata": {},
   "outputs": [
    {
     "name": "stdout",
     "output_type": "stream",
     "text": [
      "(array([0, 0, 1]), array([0, 1, 1]))\n",
      "[[0 0]\n",
      " [0 1]\n",
      " [1 1]]\n"
     ]
    },
    {
     "data": {
      "text/plain": [
       "array([[ 0.25,  0.25],\n",
       "       [-0.25, -0.25],\n",
       "       [ 0.25,  0.25]])"
      ]
     },
     "execution_count": 23,
     "metadata": {},
     "output_type": "execute_result"
    }
   ],
   "source": [
    "vec = np.array([0, 1])\n",
    "\n",
    "# Generate all unique pairs (i,j) with i <= j\n",
    "i_indices, j_indices = np.triu_indices(len(vec))\n",
    "\n",
    "print(np.triu_indices(len(vec)))\n",
    "\n",
    "# Stack pairs into a matrix\n",
    "pairs = np.column_stack((vec[i_indices], vec[j_indices]))\n",
    "\n",
    "print(pairs)\n",
    "\n",
    "np.prod(basis1_deriv_vals[pairs], axis=1)"
   ]
  },
  {
   "cell_type": "code",
   "execution_count": 24,
   "id": "e90d34ca-9817-4450-8534-53ef9b9d5942",
   "metadata": {},
   "outputs": [],
   "source": [
    "D = lambda x: np.ones(x.shape)"
   ]
  },
  {
   "cell_type": "code",
   "execution_count": 25,
   "id": "380449a0-bdd8-45c3-8bd4-3dfc39750d96",
   "metadata": {},
   "outputs": [
    {
     "data": {
      "text/plain": [
       "array([0. , 0.1, 0.2, 0.3, 0.4, 0.5, 0.6, 0.7, 0.8, 0.9, 1. ])"
      ]
     },
     "execution_count": 25,
     "metadata": {},
     "output_type": "execute_result"
    }
   ],
   "source": [
    "end_points"
   ]
  },
  {
   "cell_type": "code",
   "execution_count": 26,
   "id": "c5779556-08ca-4546-aeac-b0c56fdbf7ee",
   "metadata": {},
   "outputs": [
    {
     "name": "stdout",
     "output_type": "stream",
     "text": [
      "Help on function prep_gauss_quadrature in module fem.fem1d:\n",
      "\n",
      "prep_gauss_quadrature(f, dom, nodes)\n",
      "    Preparing a function f for num integration via gaussian quadrature.\n",
      "    \n",
      "    :param f: integrand\n",
      "    :param dom: endpoints of domains of integration\n",
      "    :param nodes: sampling points in interval [-1,1]\n",
      "    :return: array of points where ith row is\n",
      "            |T_i| * [f(T_i y_0)  f(T_i y_1),  ...,  f(T_i y_n-1)],\n",
      "            where\n",
      "            - |T_i| = (dom_i - dom_i-1) / 2 is the Jacobian of the transform and\n",
      "            - f(T_i y_j) is the image of the jth node under the\n",
      "                affine transformation T_i: [-1,1] -> dom_i\n",
      "\n"
     ]
    },
    {
     "data": {
      "text/plain": [
       "array([[ 0.05833333, -0.06666667,  0.13333333],\n",
       "       [ 0.05833333, -0.06666667,  0.13333333],\n",
       "       [ 0.05833333, -0.06666667,  0.13333333],\n",
       "       [ 0.05833333, -0.06666667,  0.13333333],\n",
       "       [ 0.05833333, -0.06666667,  0.13333333],\n",
       "       [ 0.05833333, -0.06666667,  0.13333333],\n",
       "       [ 0.05833333, -0.06666667,  0.13333333],\n",
       "       [ 0.05833333, -0.06666667,  0.13333333],\n",
       "       [ 0.05833333, -0.06666667,  0.13333333],\n",
       "       [ 0.05833333, -0.06666667,  0.13333333]])"
      ]
     },
     "execution_count": 26,
     "metadata": {},
     "output_type": "execute_result"
    }
   ],
   "source": [
    "help(prep_gauss_quadrature)\n",
    "prep_gauss_quadrature(D, end_points, leggauss_nodes) @ np.prod(basis_deriv_vals[pairs], axis=1).T"
   ]
  },
  {
   "cell_type": "code",
   "execution_count": 27,
   "id": "37a113d1-9618-447d-8ae5-fa97f72c1b0f",
   "metadata": {},
   "outputs": [],
   "source": [
    "def build_stiffness_matrix_v3(x_coords, d, elems, diffusion, basis):\n",
    "    n_nodes = len(x_coords)\n",
    "    stiff_mat = np.zeros((n_nodes, n_nodes))\n",
    "\n",
    "    n_leggauss = d\n",
    "    gauss_nodes, gauss_weights = np.polynomial.legendre.leggauss(n_leggauss)\n",
    "\n",
    "    for p in basis:\n",
    "        p.domain = np.array([-1, 1])\n",
    "\n",
    "    basis_deriv_vals = np.array([\n",
    "        p.deriv()(gauss_nodes) for p in basis\n",
    "    ])\n",
    "\n",
    "    for elem in elems:\n",
    "        elem_x = x_coords[elem]\n",
    "        x_start, x_end = elem_x[0], elem_x[-1]\n",
    "\n",
    "        J = (x_end - x_start) / 2\n",
    "        inv_J = 1 / J\n",
    "\n",
    "        phys_pts = J * gauss_nodes + (x_start + x_end) / 2\n",
    "        diffusion_vals = diffusion(phys_pts) * gauss_weights * inv_J\n",
    "\n",
    "        basis_phys_derivs = basis_deriv_vals * inv_J\n",
    "\n",
    "        # print(basis_phys_derivs)\n",
    "        # print(basis_phys_derivs.shape)\n",
    "        # print()\n",
    "        # print(np.diag(diffusion_vals))\n",
    "        # print(np.diag(diffusion_vals).shape)\n",
    "        \n",
    "        local_stiffness = basis_phys_derivs @ np.diag(diffusion_vals) @ basis_phys_derivs.T * J\n",
    "\n",
    "        stiff_mat[np.ix_(elem, elem)] += local_stiffness\n",
    "\n",
    "    return stiff_mat\n"
   ]
  },
  {
   "cell_type": "code",
   "execution_count": 28,
   "id": "af6e4ea3-84c7-415f-adf8-e2fa22d14cc9",
   "metadata": {},
   "outputs": [
    {
     "data": {
      "text/plain": [
       "array([[ 466.667, -533.333,   66.667,    0.   ,    0.   ,    0.   ,    0.   ,    0.   ,    0.   ,    0.   ,    0.   ,    0.   ,    0.   ,    0.   ,    0.   ,    0.   ,    0.   ,    0.   ,    0.   ,    0.   ,    0.   ],\n",
       "       [-533.333, 1066.667, -533.333,    0.   ,    0.   ,    0.   ,    0.   ,    0.   ,    0.   ,    0.   ,    0.   ,    0.   ,    0.   ,    0.   ,    0.   ,    0.   ,    0.   ,    0.   ,    0.   ,    0.   ,    0.   ],\n",
       "       [  66.667, -533.333,  933.333, -533.333,   66.667,    0.   ,    0.   ,    0.   ,    0.   ,    0.   ,    0.   ,    0.   ,    0.   ,    0.   ,    0.   ,    0.   ,    0.   ,    0.   ,    0.   ,    0.   ,    0.   ],\n",
       "       [   0.   ,    0.   , -533.333, 1066.667, -533.333,    0.   ,    0.   ,    0.   ,    0.   ,    0.   ,    0.   ,    0.   ,    0.   ,    0.   ,    0.   ,    0.   ,    0.   ,    0.   ,    0.   ,    0.   ,    0.   ],\n",
       "       [   0.   ,    0.   ,   66.667, -533.333,  933.333, -533.333,   66.667,    0.   ,    0.   ,    0.   ,    0.   ,    0.   ,    0.   ,    0.   ,    0.   ,    0.   ,    0.   ,    0.   ,    0.   ,    0.   ,    0.   ],\n",
       "       [   0.   ,    0.   ,    0.   ,    0.   , -533.333, 1066.667, -533.333,    0.   ,    0.   ,    0.   ,    0.   ,    0.   ,    0.   ,    0.   ,    0.   ,    0.   ,    0.   ,    0.   ,    0.   ,    0.   ,    0.   ],\n",
       "       [   0.   ,    0.   ,    0.   ,    0.   ,   66.667, -533.333,  933.333, -533.333,   66.667,    0.   ,    0.   ,    0.   ,    0.   ,    0.   ,    0.   ,    0.   ,    0.   ,    0.   ,    0.   ,    0.   ,    0.   ],\n",
       "       [   0.   ,    0.   ,    0.   ,    0.   ,    0.   ,    0.   , -533.333, 1066.667, -533.333,    0.   ,    0.   ,    0.   ,    0.   ,    0.   ,    0.   ,    0.   ,    0.   ,    0.   ,    0.   ,    0.   ,    0.   ],\n",
       "       [   0.   ,    0.   ,    0.   ,    0.   ,    0.   ,    0.   ,   66.667, -533.333,  933.333, -533.333,   66.667,    0.   ,    0.   ,    0.   ,    0.   ,    0.   ,    0.   ,    0.   ,    0.   ,    0.   ,    0.   ],\n",
       "       [   0.   ,    0.   ,    0.   ,    0.   ,    0.   ,    0.   ,    0.   ,    0.   , -533.333, 1066.667, -533.333,    0.   ,    0.   ,    0.   ,    0.   ,    0.   ,    0.   ,    0.   ,    0.   ,    0.   ,    0.   ],\n",
       "       [   0.   ,    0.   ,    0.   ,    0.   ,    0.   ,    0.   ,    0.   ,    0.   ,   66.667, -533.333,  933.333, -533.333,   66.667,    0.   ,    0.   ,    0.   ,    0.   ,    0.   ,    0.   ,    0.   ,    0.   ],\n",
       "       [   0.   ,    0.   ,    0.   ,    0.   ,    0.   ,    0.   ,    0.   ,    0.   ,    0.   ,    0.   , -533.333, 1066.667, -533.333,    0.   ,    0.   ,    0.   ,    0.   ,    0.   ,    0.   ,    0.   ,    0.   ],\n",
       "       [   0.   ,    0.   ,    0.   ,    0.   ,    0.   ,    0.   ,    0.   ,    0.   ,    0.   ,    0.   ,   66.667, -533.333,  933.333, -533.333,   66.667,    0.   ,    0.   ,    0.   ,    0.   ,    0.   ,    0.   ],\n",
       "       [   0.   ,    0.   ,    0.   ,    0.   ,    0.   ,    0.   ,    0.   ,    0.   ,    0.   ,    0.   ,    0.   ,    0.   , -533.333, 1066.667, -533.333,    0.   ,    0.   ,    0.   ,    0.   ,    0.   ,    0.   ],\n",
       "       [   0.   ,    0.   ,    0.   ,    0.   ,    0.   ,    0.   ,    0.   ,    0.   ,    0.   ,    0.   ,    0.   ,    0.   ,   66.667, -533.333,  933.333, -533.333,   66.667,    0.   ,    0.   ,    0.   ,    0.   ],\n",
       "       [   0.   ,    0.   ,    0.   ,    0.   ,    0.   ,    0.   ,    0.   ,    0.   ,    0.   ,    0.   ,    0.   ,    0.   ,    0.   ,    0.   , -533.333, 1066.667, -533.333,    0.   ,    0.   ,    0.   ,    0.   ],\n",
       "       [   0.   ,    0.   ,    0.   ,    0.   ,    0.   ,    0.   ,    0.   ,    0.   ,    0.   ,    0.   ,    0.   ,    0.   ,    0.   ,    0.   ,   66.667, -533.333,  933.333, -533.333,   66.667,    0.   ,    0.   ],\n",
       "       [   0.   ,    0.   ,    0.   ,    0.   ,    0.   ,    0.   ,    0.   ,    0.   ,    0.   ,    0.   ,    0.   ,    0.   ,    0.   ,    0.   ,    0.   ,    0.   , -533.333, 1066.667, -533.333,    0.   ,    0.   ],\n",
       "       [   0.   ,    0.   ,    0.   ,    0.   ,    0.   ,    0.   ,    0.   ,    0.   ,    0.   ,    0.   ,    0.   ,    0.   ,    0.   ,    0.   ,    0.   ,    0.   ,   66.667, -533.333,  933.333, -533.333,   66.667],\n",
       "       [   0.   ,    0.   ,    0.   ,    0.   ,    0.   ,    0.   ,    0.   ,    0.   ,    0.   ,    0.   ,    0.   ,    0.   ,    0.   ,    0.   ,    0.   ,    0.   ,    0.   ,    0.   , -533.333, 1066.667, -533.333],\n",
       "       [   0.   ,    0.   ,    0.   ,    0.   ,    0.   ,    0.   ,    0.   ,    0.   ,    0.   ,    0.   ,    0.   ,    0.   ,    0.   ,    0.   ,    0.   ,    0.   ,    0.   ,    0.   ,   66.667, -533.333,  466.667]])"
      ]
     },
     "execution_count": 28,
     "metadata": {},
     "output_type": "execute_result"
    }
   ],
   "source": [
    "import pprint\n",
    "np.set_printoptions(precision=3, suppress=True, linewidth=1000)\n",
    "\n",
    "build_stiffness_matrix_v3(x_coords, 2, elems, D, basis)\n",
    "\n",
    "# elem = elems[0]\n",
    "# print(np.ix_(elem, elem))"
   ]
  },
  {
   "cell_type": "code",
   "execution_count": 29,
   "id": "ecda02f8-c972-4a47-8c40-9c5857aca044",
   "metadata": {},
   "outputs": [
    {
     "name": "stdout",
     "output_type": "stream",
     "text": [
      "Help on _ArrayFunctionDispatcher in module numpy:\n",
      "\n",
      "ix_(*args)\n",
      "    Construct an open mesh from multiple sequences.\n",
      "    \n",
      "    This function takes N 1-D sequences and returns N outputs with N\n",
      "    dimensions each, such that the shape is 1 in all but one dimension\n",
      "    and the dimension with the non-unit shape value cycles through all\n",
      "    N dimensions.\n",
      "    \n",
      "    Using `ix_` one can quickly construct index arrays that will index\n",
      "    the cross product. ``a[np.ix_([1,3],[2,5])]`` returns the array\n",
      "    ``[[a[1,2] a[1,5]], [a[3,2] a[3,5]]]``.\n",
      "    \n",
      "    Parameters\n",
      "    ----------\n",
      "    args : 1-D sequences\n",
      "        Each sequence should be of integer or boolean type.\n",
      "        Boolean sequences will be interpreted as boolean masks for the\n",
      "        corresponding dimension (equivalent to passing in\n",
      "        ``np.nonzero(boolean_sequence)``).\n",
      "    \n",
      "    Returns\n",
      "    -------\n",
      "    out : tuple of ndarrays\n",
      "        N arrays with N dimensions each, with N the number of input\n",
      "        sequences. Together these arrays form an open mesh.\n",
      "    \n",
      "    See Also\n",
      "    --------\n",
      "    ogrid, mgrid, meshgrid\n",
      "    \n",
      "    Examples\n",
      "    --------\n",
      "    >>> a = np.arange(10).reshape(2, 5)\n",
      "    >>> a\n",
      "    array([[0, 1, 2, 3, 4],\n",
      "           [5, 6, 7, 8, 9]])\n",
      "    >>> ixgrid = np.ix_([0, 1], [2, 4])\n",
      "    >>> ixgrid\n",
      "    (array([[0],\n",
      "           [1]]), array([[2, 4]]))\n",
      "    >>> ixgrid[0].shape, ixgrid[1].shape\n",
      "    ((2, 1), (1, 2))\n",
      "    >>> a[ixgrid]\n",
      "    array([[2, 4],\n",
      "           [7, 9]])\n",
      "    \n",
      "    >>> ixgrid = np.ix_([True, True], [2, 4])\n",
      "    >>> a[ixgrid]\n",
      "    array([[2, 4],\n",
      "           [7, 9]])\n",
      "    >>> ixgrid = np.ix_([True, True], [False, False, True, False, True])\n",
      "    >>> a[ixgrid]\n",
      "    array([[2, 4],\n",
      "           [7, 9]])\n",
      "\n"
     ]
    }
   ],
   "source": [
    "help(np.ix_)"
   ]
  },
  {
   "cell_type": "code",
   "execution_count": 30,
   "id": "a425f603-93d2-4d1e-ad01-d59c88ad165e",
   "metadata": {
    "scrolled": true
   },
   "outputs": [
    {
     "name": "stdout",
     "output_type": "stream",
     "text": [
      "[[0. 0. 0.]\n",
      " [0. 0. 0.]\n",
      " [0. 0. 0.]]\n",
      "\n",
      "[[ 2. -2.]\n",
      " [-2.  2.]]\n",
      "\n",
      "(array([[0],\n",
      "       [1]]), array([[0, 1]]))\n",
      "\n",
      "[[ 2. -2.  0.]\n",
      " [-2.  2.  0.]\n",
      " [ 0.  0.  0.]]\n",
      "[[ 2. -2.]\n",
      " [-2.  2.]]\n",
      "\n",
      "(array([[1],\n",
      "       [2]]), array([[1, 2]]))\n",
      "\n",
      "[[ 2. -2.  0.]\n",
      " [-2.  4. -2.]\n",
      " [ 0. -2.  2.]]\n"
     ]
    },
    {
     "data": {
      "text/plain": [
       "array([[ 2., -2.,  0.],\n",
       "       [-2.,  4., -2.],\n",
       "       [ 0., -2.,  2.]])"
      ]
     },
     "execution_count": 30,
     "metadata": {},
     "output_type": "execute_result"
    }
   ],
   "source": [
    "x_coords = np.array([0, 0.5, 1])\n",
    "elems = np.array([[0, 1],\n",
    "                  [1, 2]])\n",
    "diffusion = lambda x: np.ones_like(x)\n",
    "basis = [np.polynomial.Polynomial([0.5, -0.5]), np.polynomial.Polynomial([0.5, 0.5])]\n",
    "\n",
    "stiff_mat = build_stiffness_matrix(x_coords, 1, elems, basis, diffusion)\n",
    "stiff_mat"
   ]
  },
  {
   "cell_type": "code",
   "execution_count": 31,
   "id": "90b89273-2956-4e8a-9811-f948876033ee",
   "metadata": {},
   "outputs": [
    {
     "name": "stdout",
     "output_type": "stream",
     "text": [
      "[[0. 0. 0. 0. 0. 0. 0. 0. 0. 0. 0.]\n",
      " [0. 0. 0. 0. 0. 0. 0. 0. 0. 0. 0.]\n",
      " [0. 0. 0. 0. 0. 0. 0. 0. 0. 0. 0.]\n",
      " [0. 0. 0. 0. 0. 0. 0. 0. 0. 0. 0.]\n",
      " [0. 0. 0. 0. 0. 0. 0. 0. 0. 0. 0.]\n",
      " [0. 0. 0. 0. 0. 0. 0. 0. 0. 0. 0.]\n",
      " [0. 0. 0. 0. 0. 0. 0. 0. 0. 0. 0.]\n",
      " [0. 0. 0. 0. 0. 0. 0. 0. 0. 0. 0.]\n",
      " [0. 0. 0. 0. 0. 0. 0. 0. 0. 0. 0.]\n",
      " [0. 0. 0. 0. 0. 0. 0. 0. 0. 0. 0.]\n",
      " [0. 0. 0. 0. 0. 0. 0. 0. 0. 0. 0.]]\n",
      "\n",
      "[[ 11.667 -13.333   1.667]\n",
      " [-13.333  26.667 -13.333]\n",
      " [  1.667 -13.333  11.667]]\n",
      "\n",
      "(array([[0],\n",
      "       [1],\n",
      "       [2]]), array([[0, 1, 2]]))\n",
      "\n",
      "[[ 11.667 -13.333   1.667   0.      0.      0.      0.      0.      0.      0.      0.   ]\n",
      " [-13.333  26.667 -13.333   0.      0.      0.      0.      0.      0.      0.      0.   ]\n",
      " [  1.667 -13.333  11.667   0.      0.      0.      0.      0.      0.      0.      0.   ]\n",
      " [  0.      0.      0.      0.      0.      0.      0.      0.      0.      0.      0.   ]\n",
      " [  0.      0.      0.      0.      0.      0.      0.      0.      0.      0.      0.   ]\n",
      " [  0.      0.      0.      0.      0.      0.      0.      0.      0.      0.      0.   ]\n",
      " [  0.      0.      0.      0.      0.      0.      0.      0.      0.      0.      0.   ]\n",
      " [  0.      0.      0.      0.      0.      0.      0.      0.      0.      0.      0.   ]\n",
      " [  0.      0.      0.      0.      0.      0.      0.      0.      0.      0.      0.   ]\n",
      " [  0.      0.      0.      0.      0.      0.      0.      0.      0.      0.      0.   ]\n",
      " [  0.      0.      0.      0.      0.      0.      0.      0.      0.      0.      0.   ]]\n",
      "[[ 11.667 -13.333   1.667]\n",
      " [-13.333  26.667 -13.333]\n",
      " [  1.667 -13.333  11.667]]\n",
      "\n",
      "(array([[2],\n",
      "       [3],\n",
      "       [4]]), array([[2, 3, 4]]))\n",
      "\n",
      "[[ 11.667 -13.333   1.667   0.      0.      0.      0.      0.      0.      0.      0.   ]\n",
      " [-13.333  26.667 -13.333   0.      0.      0.      0.      0.      0.      0.      0.   ]\n",
      " [  1.667 -13.333  23.333 -13.333   1.667   0.      0.      0.      0.      0.      0.   ]\n",
      " [  0.      0.    -13.333  26.667 -13.333   0.      0.      0.      0.      0.      0.   ]\n",
      " [  0.      0.      1.667 -13.333  11.667   0.      0.      0.      0.      0.      0.   ]\n",
      " [  0.      0.      0.      0.      0.      0.      0.      0.      0.      0.      0.   ]\n",
      " [  0.      0.      0.      0.      0.      0.      0.      0.      0.      0.      0.   ]\n",
      " [  0.      0.      0.      0.      0.      0.      0.      0.      0.      0.      0.   ]\n",
      " [  0.      0.      0.      0.      0.      0.      0.      0.      0.      0.      0.   ]\n",
      " [  0.      0.      0.      0.      0.      0.      0.      0.      0.      0.      0.   ]\n",
      " [  0.      0.      0.      0.      0.      0.      0.      0.      0.      0.      0.   ]]\n",
      "[[ 11.667 -13.333   1.667]\n",
      " [-13.333  26.667 -13.333]\n",
      " [  1.667 -13.333  11.667]]\n",
      "\n",
      "(array([[4],\n",
      "       [5],\n",
      "       [6]]), array([[4, 5, 6]]))\n",
      "\n",
      "[[ 11.667 -13.333   1.667   0.      0.      0.      0.      0.      0.      0.      0.   ]\n",
      " [-13.333  26.667 -13.333   0.      0.      0.      0.      0.      0.      0.      0.   ]\n",
      " [  1.667 -13.333  23.333 -13.333   1.667   0.      0.      0.      0.      0.      0.   ]\n",
      " [  0.      0.    -13.333  26.667 -13.333   0.      0.      0.      0.      0.      0.   ]\n",
      " [  0.      0.      1.667 -13.333  23.333 -13.333   1.667   0.      0.      0.      0.   ]\n",
      " [  0.      0.      0.      0.    -13.333  26.667 -13.333   0.      0.      0.      0.   ]\n",
      " [  0.      0.      0.      0.      1.667 -13.333  11.667   0.      0.      0.      0.   ]\n",
      " [  0.      0.      0.      0.      0.      0.      0.      0.      0.      0.      0.   ]\n",
      " [  0.      0.      0.      0.      0.      0.      0.      0.      0.      0.      0.   ]\n",
      " [  0.      0.      0.      0.      0.      0.      0.      0.      0.      0.      0.   ]\n",
      " [  0.      0.      0.      0.      0.      0.      0.      0.      0.      0.      0.   ]]\n",
      "[[ 11.667 -13.333   1.667]\n",
      " [-13.333  26.667 -13.333]\n",
      " [  1.667 -13.333  11.667]]\n",
      "\n",
      "(array([[6],\n",
      "       [7],\n",
      "       [8]]), array([[6, 7, 8]]))\n",
      "\n",
      "[[ 11.667 -13.333   1.667   0.      0.      0.      0.      0.      0.      0.      0.   ]\n",
      " [-13.333  26.667 -13.333   0.      0.      0.      0.      0.      0.      0.      0.   ]\n",
      " [  1.667 -13.333  23.333 -13.333   1.667   0.      0.      0.      0.      0.      0.   ]\n",
      " [  0.      0.    -13.333  26.667 -13.333   0.      0.      0.      0.      0.      0.   ]\n",
      " [  0.      0.      1.667 -13.333  23.333 -13.333   1.667   0.      0.      0.      0.   ]\n",
      " [  0.      0.      0.      0.    -13.333  26.667 -13.333   0.      0.      0.      0.   ]\n",
      " [  0.      0.      0.      0.      1.667 -13.333  23.333 -13.333   1.667   0.      0.   ]\n",
      " [  0.      0.      0.      0.      0.      0.    -13.333  26.667 -13.333   0.      0.   ]\n",
      " [  0.      0.      0.      0.      0.      0.      1.667 -13.333  11.667   0.      0.   ]\n",
      " [  0.      0.      0.      0.      0.      0.      0.      0.      0.      0.      0.   ]\n",
      " [  0.      0.      0.      0.      0.      0.      0.      0.      0.      0.      0.   ]]\n",
      "[[ 11.667 -13.333   1.667]\n",
      " [-13.333  26.667 -13.333]\n",
      " [  1.667 -13.333  11.667]]\n",
      "\n",
      "(array([[ 8],\n",
      "       [ 9],\n",
      "       [10]]), array([[ 8,  9, 10]]))\n",
      "\n",
      "[[ 11.667 -13.333   1.667   0.      0.      0.      0.      0.      0.      0.      0.   ]\n",
      " [-13.333  26.667 -13.333   0.      0.      0.      0.      0.      0.      0.      0.   ]\n",
      " [  1.667 -13.333  23.333 -13.333   1.667   0.      0.      0.      0.      0.      0.   ]\n",
      " [  0.      0.    -13.333  26.667 -13.333   0.      0.      0.      0.      0.      0.   ]\n",
      " [  0.      0.      1.667 -13.333  23.333 -13.333   1.667   0.      0.      0.      0.   ]\n",
      " [  0.      0.      0.      0.    -13.333  26.667 -13.333   0.      0.      0.      0.   ]\n",
      " [  0.      0.      0.      0.      1.667 -13.333  23.333 -13.333   1.667   0.      0.   ]\n",
      " [  0.      0.      0.      0.      0.      0.    -13.333  26.667 -13.333   0.      0.   ]\n",
      " [  0.      0.      0.      0.      0.      0.      1.667 -13.333  23.333 -13.333   1.667]\n",
      " [  0.      0.      0.      0.      0.      0.      0.      0.    -13.333  26.667 -13.333]\n",
      " [  0.      0.      0.      0.      0.      0.      0.      0.      1.667 -13.333  11.667]]\n"
     ]
    },
    {
     "data": {
      "text/plain": [
       "array([[ 11.667, -13.333,   1.667,   0.   ,   0.   ,   0.   ,   0.   ,   0.   ,   0.   ,   0.   ,   0.   ],\n",
       "       [-13.333,  26.667, -13.333,   0.   ,   0.   ,   0.   ,   0.   ,   0.   ,   0.   ,   0.   ,   0.   ],\n",
       "       [  1.667, -13.333,  23.333, -13.333,   1.667,   0.   ,   0.   ,   0.   ,   0.   ,   0.   ,   0.   ],\n",
       "       [  0.   ,   0.   , -13.333,  26.667, -13.333,   0.   ,   0.   ,   0.   ,   0.   ,   0.   ,   0.   ],\n",
       "       [  0.   ,   0.   ,   1.667, -13.333,  23.333, -13.333,   1.667,   0.   ,   0.   ,   0.   ,   0.   ],\n",
       "       [  0.   ,   0.   ,   0.   ,   0.   , -13.333,  26.667, -13.333,   0.   ,   0.   ,   0.   ,   0.   ],\n",
       "       [  0.   ,   0.   ,   0.   ,   0.   ,   1.667, -13.333,  23.333, -13.333,   1.667,   0.   ,   0.   ],\n",
       "       [  0.   ,   0.   ,   0.   ,   0.   ,   0.   ,   0.   , -13.333,  26.667, -13.333,   0.   ,   0.   ],\n",
       "       [  0.   ,   0.   ,   0.   ,   0.   ,   0.   ,   0.   ,   1.667, -13.333,  23.333, -13.333,   1.667],\n",
       "       [  0.   ,   0.   ,   0.   ,   0.   ,   0.   ,   0.   ,   0.   ,   0.   , -13.333,  26.667, -13.333],\n",
       "       [  0.   ,   0.   ,   0.   ,   0.   ,   0.   ,   0.   ,   0.   ,   0.   ,   1.667, -13.333,  11.667]])"
      ]
     },
     "execution_count": 31,
     "metadata": {},
     "output_type": "execute_result"
    }
   ],
   "source": [
    "polydeg = 2\n",
    "\n",
    "n_elem = 5\n",
    "nodes = n_elem * polydeg + 1\n",
    "x_coords = np.linspace(0, 1, nodes)\n",
    "elems = elem_indices(n_elem, polydeg)\n",
    "\n",
    "diffusion = lambda x: np.ones_like(x)\n",
    "basis = local_basis(polydeg)\n",
    "\n",
    "stiff_mat = build_stiffness_matrix(x_coords, polydeg, elems, basis, diffusion)\n",
    "stiff_mat"
   ]
  },
  {
   "cell_type": "code",
   "execution_count": 32,
   "id": "65a57e74-8db4-4eae-929c-c6383bd57e51",
   "metadata": {},
   "outputs": [
    {
     "name": "stdout",
     "output_type": "stream",
     "text": [
      "[[0. 0. 0. 0. 0.]\n",
      " [0. 0. 0. 0. 0.]\n",
      " [0. 0. 0. 0. 0.]\n",
      " [0. 0. 0. 0. 0.]\n",
      " [0. 0. 0. 0. 0.]]\n",
      "\n",
      "[[ 4.667 -5.333  0.667]\n",
      " [-5.333 10.667 -5.333]\n",
      " [ 0.667 -5.333  4.667]]\n",
      "\n",
      "(array([[0],\n",
      "       [1],\n",
      "       [2]]), array([[0, 1, 2]]))\n",
      "\n",
      "[[ 4.667 -5.333  0.667  0.     0.   ]\n",
      " [-5.333 10.667 -5.333  0.     0.   ]\n",
      " [ 0.667 -5.333  4.667  0.     0.   ]\n",
      " [ 0.     0.     0.     0.     0.   ]\n",
      " [ 0.     0.     0.     0.     0.   ]]\n",
      "[[ 4.667 -5.333  0.667]\n",
      " [-5.333 10.667 -5.333]\n",
      " [ 0.667 -5.333  4.667]]\n",
      "\n",
      "(array([[2],\n",
      "       [3],\n",
      "       [4]]), array([[2, 3, 4]]))\n",
      "\n",
      "[[ 4.667 -5.333  0.667  0.     0.   ]\n",
      " [-5.333 10.667 -5.333  0.     0.   ]\n",
      " [ 0.667 -5.333  9.333 -5.333  0.667]\n",
      " [ 0.     0.    -5.333 10.667 -5.333]\n",
      " [ 0.     0.     0.667 -5.333  4.667]]\n",
      "[[ 4.667 -5.333  0.667  0.     0.   ]\n",
      " [-5.333 10.667 -5.333  0.     0.   ]\n",
      " [ 0.667 -5.333 18.667 -5.333  0.667]\n",
      " [ 0.     0.    -5.333 10.667 -5.333]\n",
      " [ 0.     0.     0.667 -5.333  4.667]]\n",
      "[[ 4.667 -5.333  0.667  0.     0.   ]\n",
      " [-5.333 10.667 -5.333  0.     0.   ]\n",
      " [ 0.667 -5.333  9.333 -5.333  0.667]\n",
      " [ 0.     0.    -5.333 10.667 -5.333]\n",
      " [ 0.     0.     0.667 -5.333  4.667]]\n"
     ]
    }
   ],
   "source": [
    "x_coords = np.linspace(0, 1, 5)  # 2 quadratic elements → 5 nodes\n",
    "elems = elem_indices(2, 2)\n",
    "diffusion = lambda x: np.ones_like(x)\n",
    "basis = local_basis(2)\n",
    "\n",
    "stiff_mat = build_stiffness_matrix(x_coords, 2, elems, basis, diffusion)\n",
    "\n",
    "expected = np.array([\n",
    "    [ 14/3, -16/3,   2/3,    0,     0],\n",
    "    [-16/3, 32/3,  -16/3,    0,     0],\n",
    "    [  2/3, -16/3, 28/3 + 28/3, -16/3, 2/3],\n",
    "    [  0,    0,  -16/3, 32/3, -16/3],\n",
    "    [  0,    0,    2/3, -16/3, 14/3]\n",
    "])\n",
    "\n",
    "print(expected)\n",
    "print(stiff_mat)"
   ]
  },
  {
   "cell_type": "code",
   "execution_count": 33,
   "id": "549fa507-940e-40f3-acf3-2d86aa25fe1a",
   "metadata": {},
   "outputs": [
    {
     "name": "stdout",
     "output_type": "stream",
     "text": [
      "[[ 0.     0.     0.     0.     0.   ]\n",
      " [ 0.     0.     0.     0.     0.   ]\n",
      " [ 0.     0.    87.111  0.     0.   ]\n",
      " [ 0.     0.     0.     0.     0.   ]\n",
      " [ 0.     0.     0.     0.     0.   ]]\n"
     ]
    }
   ],
   "source": [
    "print((stiff_mat - expected)**2)"
   ]
  },
  {
   "cell_type": "code",
   "execution_count": 35,
   "id": "064816b1-088b-418a-b1fc-ed366208ccbb",
   "metadata": {},
   "outputs": [
    {
     "data": {
      "text/plain": [
       "array([[ 2.   ,  0.   , -2.   ,  0.   ,  0.   ],\n",
       "       [ 0.   , 10.667,  0.   ,  0.   ,  0.   ],\n",
       "       [-2.   ,  0.   ,  4.   ,  0.   , -2.   ],\n",
       "       [ 0.   ,  0.   ,  0.   , 10.667,  0.   ],\n",
       "       [ 0.   ,  0.   , -2.   ,  0.   ,  2.   ]])"
      ]
     },
     "execution_count": 35,
     "metadata": {},
     "output_type": "execute_result"
    }
   ],
   "source": [
    "import numpy as np\n",
    "from numpy.polynomial import Polynomial\n",
    "\n",
    "# === 1. build_stiffness_matrix ===\n",
    "\n",
    "def build_stiffness_matrix(x_coords, d, elems, basis, diffusion):\n",
    "    n_nodes = len(x_coords)\n",
    "    stiff_mat = np.zeros((n_nodes, n_nodes))\n",
    "\n",
    "    n_leggauss = d\n",
    "    leggauss_nodes, leggauss_weights = np.polynomial.legendre.leggauss(n_leggauss)\n",
    "\n",
    "    basis_deriv_vals = np.array([\n",
    "        p.deriv()(leggauss_nodes) for p in basis  # shape (n_basis, n_quad)\n",
    "    ])\n",
    "\n",
    "    for elem in elems:\n",
    "        elem_x = x_coords[elem]\n",
    "        x_start, x_end = elem_x[0], elem_x[-1]\n",
    "        J = (x_end - x_start) / 2\n",
    "        inv_J = 1 / J\n",
    "\n",
    "        phys_pts = J * leggauss_nodes + (x_start + x_end) / 2\n",
    "        weighted_diffusion_vals = diffusion(phys_pts) * leggauss_weights  # shape (n_quad,)\n",
    "\n",
    "        # ❌ Mistake: using unscaled derivatives on the right\n",
    "        local_stiffness = (basis_deriv_vals * inv_J) @ np.diag(weighted_diffusion_vals) @ basis_deriv_vals.T\n",
    "\n",
    "        stiff_mat[np.ix_(elem, elem)] += local_stiffness\n",
    "\n",
    "    return stiff_mat\n",
    "\n",
    "\n",
    "# === 2. Define mesh, elements, and quadratic basis ===\n",
    "\n",
    "x_coords = np.linspace(0, 1, 5)  # 5 nodes → 2 quadratic elements\n",
    "elems = np.array([[0, 1, 2], [2, 3, 4]])\n",
    "diffusion = lambda x: np.ones_like(x)\n",
    "\n",
    "basis = [\n",
    "    Polynomial([-0.5, 0.5, 0]),   # ξ(ξ - 1)/2\n",
    "    Polynomial([1.0, 0.0, -1.0]), # 1 - ξ²\n",
    "    Polynomial([-0.5, -0.5, 0])   # ξ(ξ + 1)/2\n",
    "]\n",
    "\n",
    "# === 3. Compute stiffness matrix ===\n",
    "\n",
    "stiff_matrix_result = build_stiffness_matrix(x_coords, d=2, elems=elems, basis=basis, diffusion=diffusion)\n",
    "stiff_matrix_result"
   ]
  }
 ],
 "metadata": {
  "kernelspec": {
   "display_name": "Python 3 (ipykernel)",
   "language": "python",
   "name": "python3"
  },
  "language_info": {
   "codemirror_mode": {
    "name": "ipython",
    "version": 3
   },
   "file_extension": ".py",
   "mimetype": "text/x-python",
   "name": "python",
   "nbconvert_exporter": "python",
   "pygments_lexer": "ipython3",
   "version": "3.11.7"
  }
 },
 "nbformat": 4,
 "nbformat_minor": 5
}
