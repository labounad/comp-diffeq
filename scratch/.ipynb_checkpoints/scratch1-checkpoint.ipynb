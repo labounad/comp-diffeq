{
 "cells": [
  {
   "cell_type": "code",
   "execution_count": 1,
   "id": "initial_id",
   "metadata": {},
   "outputs": [],
   "source": [
    "import os\n",
    "import sys\n",
    "module_path = os.path.abspath(os.path.join('..'))\n",
    "if module_path not in sys.path:\n",
    "    sys.path.append(module_path)\n",
    "\n",
    "from oneD.oneD_galerkin import *"
   ]
  },
  {
   "cell_type": "code",
   "execution_count": 2,
   "id": "5e75d014-f0dc-47bd-8b87-84757e20b92f",
   "metadata": {},
   "outputs": [
    {
     "name": "stdout",
     "output_type": "stream",
     "text": [
      "[[0 1 2 3]\n",
      " [3 4 5 6]\n",
      " [6 7 8 9]]\n"
     ]
    }
   ],
   "source": [
    "elems = elem_indices(3, 3)\n",
    "print(elems)"
   ]
  },
  {
   "cell_type": "code",
   "execution_count": 3,
   "id": "12d371c1-1536-4d1b-b110-4e523026798b",
   "metadata": {},
   "outputs": [
    {
     "data": {
      "text/plain": [
       "array([0, 1, 2, 3])"
      ]
     },
     "execution_count": 3,
     "metadata": {},
     "output_type": "execute_result"
    }
   ],
   "source": [
    "elems[0]"
   ]
  },
  {
   "cell_type": "code",
   "execution_count": 4,
   "id": "7520c3c9-9fc2-4ab4-9a80-b1c69cd85e9d",
   "metadata": {},
   "outputs": [
    {
     "data": {
      "image/png": "[encoded data removed]",
      "text/plain": [
       "<Figure size 640x480 with 1 Axes>"
      ]
     },
     "metadata": {},
     "output_type": "display_data"
    },
    {
     "name": "stdout",
     "output_type": "stream",
     "text": [
      "[-0.57735027  0.57735027]\n"
     ]
    }
   ],
   "source": [
    "nodes, weights = np.polynomial.legendre.leggauss(2)\n",
    "plt.plot(nodes, weights)\n",
    "plt.show()\n",
    "print(nodes)"
   ]
  },
  {
   "cell_type": "code",
   "execution_count": 5,
   "id": "3522ce22-a747-4b1b-9a6e-0a63e7753a91",
   "metadata": {},
   "outputs": [
    {
     "data": {
      "text/latex": [
       "$x \\mapsto \\color{LightGray}{\\text{0.0}} - \\text{0.5}\\,x + \\text{0.5}\\,x^{2}$"
      ],
      "text/plain": [
       "Polynomial([ 0. , -0.5,  0.5], domain=[-1,  1], window=[-1,  1], symbol='x')"
      ]
     },
     "execution_count": 5,
     "metadata": {},
     "output_type": "execute_result"
    }
   ],
   "source": [
    "p1 = np.polynomial.Polynomial((0, -0.5, 0.5))\n",
    "p1"
   ]
  },
  {
   "cell_type": "code",
   "execution_count": 6,
   "id": "3f176524-8f2d-4acb-bb0e-f54d23399bff",
   "metadata": {},
   "outputs": [
    {
     "data": {
      "text/plain": [
       "0.0"
      ]
     },
     "execution_count": 6,
     "metadata": {},
     "output_type": "execute_result"
    }
   ],
   "source": [
    "p1(0)"
   ]
  },
  {
   "cell_type": "code",
   "execution_count": 7,
   "id": "ac7eba62-e83a-463d-adda-a2dcd00921f4",
   "metadata": {},
   "outputs": [
    {
     "data": {
      "text/plain": [
       "0.0"
      ]
     },
     "execution_count": 7,
     "metadata": {},
     "output_type": "execute_result"
    }
   ],
   "source": [
    "p1.domain = np.array([0, 5])\n",
    "p1(2.5)"
   ]
  },
  {
   "cell_type": "code",
   "execution_count": 8,
   "id": "e20c814b-1840-4b6a-afb2-c99d562f2ec5",
   "metadata": {},
   "outputs": [
    {
     "ename": "TypeError",
     "evalue": "list indices must be integers or slices, not tuple",
     "output_type": "error",
     "traceback": [
      "\u001b[0;31m---------------------------------------------------------------------------\u001b[0m",
      "\u001b[0;31mTypeError\u001b[0m                                 Traceback (most recent call last)",
      "Cell \u001b[0;32mIn[8], line 1\u001b[0m\n\u001b[0;32m----> 1\u001b[0m gauss_quadrature(p1, [\u001b[38;5;241m0\u001b[39m,\u001b[38;5;241m5\u001b[39m], \u001b[38;5;241m2\u001b[39m) \u001b[38;5;241m*\u001b[39m \u001b[38;5;241m5\u001b[39m\n",
      "File \u001b[0;32m~/PycharmProjects/CompDiffEq/oneD/oneD_galerkin.py:205\u001b[0m, in \u001b[0;36mgauss_quadrature\u001b[0;34m(f, dom, n)\u001b[0m\n\u001b[1;32m    202\u001b[0m leggauss_nodes, _ \u001b[38;5;241m=\u001b[39m np\u001b[38;5;241m.\u001b[39mpolynomial\u001b[38;5;241m.\u001b[39mlegendre\u001b[38;5;241m.\u001b[39mleggauss(n)\n\u001b[1;32m    204\u001b[0m \u001b[38;5;66;03m# apply affine transformation from [-1,1] into domains\u001b[39;00m\n\u001b[0;32m--> 205\u001b[0m transformed_nodes \u001b[38;5;241m=\u001b[39m (np\u001b[38;5;241m.\u001b[39marray((\u001b[38;5;241m0.5\u001b[39m\u001b[38;5;241m*\u001b[39mnp\u001b[38;5;241m.\u001b[39marray([np\u001b[38;5;241m.\u001b[39mdiff(dom)]))\u001b[38;5;241m.\u001b[39mT \u001b[38;5;241m@\u001b[39m [leggauss_nodes \u001b[38;5;241m+\u001b[39m \u001b[38;5;241m1\u001b[39m]) \u001b[38;5;241m+\u001b[39m dom[:\u001b[38;5;241m-\u001b[39m\u001b[38;5;241m1\u001b[39m][:, np\u001b[38;5;241m.\u001b[39mnewaxis])\n\u001b[1;32m    207\u001b[0m \u001b[38;5;28;01mreturn\u001b[39;00m f(transformed_nodes)\n",
      "\u001b[0;31mTypeError\u001b[0m: list indices must be integers or slices, not tuple"
     ]
    }
   ],
   "source": [
    "gauss_quadrature(p1, [0,5], 2) * 5"
   ]
  },
  {
   "cell_type": "code",
   "execution_count": 9,
   "id": "81923c5e-819a-4018-a33e-fe9135b397b2",
   "metadata": {},
   "outputs": [
    {
     "data": {
      "text/plain": [
       "(Polynomial([ 0. , -0.5,  0.5], domain=[-1.,  1.], window=[-1.,  1.], symbol='x'),\n",
       " Polynomial([ 1.,  0., -1.], domain=[-1.,  1.], window=[-1.,  1.], symbol='x'),\n",
       " Polynomial([0. , 0.5, 0.5], domain=[-1.,  1.], window=[-1.,  1.], symbol='x'))"
      ]
     },
     "execution_count": 9,
     "metadata": {},
     "output_type": "execute_result"
    }
   ],
   "source": [
    "b = local_basis(2)\n",
    "b"
   ]
  },
  {
   "cell_type": "code",
   "execution_count": 10,
   "id": "5c7fd832-b4ed-4987-b4a9-93e31c744378",
   "metadata": {},
   "outputs": [
    {
     "data": {
      "text/plain": [
       "array([[ 0.4553418 , -0.12200847],\n",
       "       [ 0.66666667,  0.66666667],\n",
       "       [-0.12200847,  0.4553418 ]])"
      ]
     },
     "execution_count": 10,
     "metadata": {},
     "output_type": "execute_result"
    }
   ],
   "source": [
    "leggauss_nodes, leggauss_weights = np.polynomial.legendre.leggauss(2)\n",
    "np.array([leggauss_weights * p(leggauss_nodes) for p in b])"
   ]
  },
  {
   "cell_type": "code",
   "execution_count": 11,
   "id": "76eb7520-7116-4c95-b38f-0316fccf85ac",
   "metadata": {},
   "outputs": [
    {
     "data": {
      "text/plain": [
       "array([[ 0.4553418 , -0.12200847],\n",
       "       [ 0.66666667,  0.66666667],\n",
       "       [-0.12200847,  0.4553418 ]])"
      ]
     },
     "execution_count": 11,
     "metadata": {},
     "output_type": "execute_result"
    }
   ],
   "source": [
    "int_factors = np.array([leggauss_weights * p(leggauss_nodes) for p in b])\n",
    "int_factors"
   ]
  },
  {
   "cell_type": "code",
   "execution_count": 21,
   "id": "8291c318-cc87-46aa-8bec-285d22c5b9e0",
   "metadata": {},
   "outputs": [
    {
     "name": "stdout",
     "output_type": "stream",
     "text": [
      "[[ 0  1  2]\n",
      " [ 2  3  4]\n",
      " [ 4  5  6]\n",
      " [ 6  7  8]\n",
      " [ 8  9 10]\n",
      " [10 11 12]\n",
      " [12 13 14]\n",
      " [14 15 16]\n",
      " [16 17 18]\n",
      " [18 19 20]]\n"
     ]
    },
    {
     "data": {
      "text/plain": [
       "array([0. , 0.1, 0.2, 0.3, 0.4, 0.5, 0.6, 0.7, 0.8, 0.9, 1. ])"
      ]
     },
     "execution_count": 21,
     "metadata": {},
     "output_type": "execute_result"
    }
   ],
   "source": [
    "n_elem = 10\n",
    "polydeg = 2\n",
    "\n",
    "x_start = 0\n",
    "x_end = 1\n",
    "elems = elem_indices(n_elem, polydeg)\n",
    "print(elems)\n",
    "\n",
    "nodes = n_elem * polydeg + 1\n",
    "x_coords = np.linspace(x_start, x_end, nodes)\n",
    "\n",
    "end_points = np.append(x_coords[elems[:, 0]], x_coords[-1])\n",
    "end_points"
   ]
  },
  {
   "cell_type": "code",
   "execution_count": 13,
   "id": "cf053ad5-d071-4ed7-83e6-221e1c66276f",
   "metadata": {},
   "outputs": [
    {
     "ename": "NameError",
     "evalue": "name 'dom' is not defined",
     "output_type": "error",
     "traceback": [
      "\u001b[0;31m---------------------------------------------------------------------------\u001b[0m",
      "\u001b[0;31mNameError\u001b[0m                                 Traceback (most recent call last)",
      "Cell \u001b[0;32mIn[13], line 1\u001b[0m\n\u001b[0;32m----> 1\u001b[0m delta_x \u001b[38;5;241m=\u001b[39m dom[\u001b[38;5;241m-\u001b[39m\u001b[38;5;241m1\u001b[39m] \u001b[38;5;241m-\u001b[39m dom[\u001b[38;5;241m0\u001b[39m]\n",
      "\u001b[0;31mNameError\u001b[0m: name 'dom' is not defined"
     ]
    }
   ],
   "source": [
    "delta_x = dom[-1] - dom[0]\n",
    "\n",
    "# affine transformation from [-1, 1] to dom\n",
    "# shifted_nodes = dom[0] + (nodes + 1) * delta_x/2"
   ]
  },
  {
   "cell_type": "code",
   "execution_count": 14,
   "id": "588f185d-b5bb-41bb-9fb4-84c37a3c1077",
   "metadata": {},
   "outputs": [
    {
     "ename": "IndexError",
     "evalue": "too many indices for array: array is 1-dimensional, but 2 were indexed",
     "output_type": "error",
     "traceback": [
      "\u001b[0;31m---------------------------------------------------------------------------\u001b[0m",
      "\u001b[0;31mIndexError\u001b[0m                                Traceback (most recent call last)",
      "Cell \u001b[0;32mIn[14], line 2\u001b[0m\n\u001b[1;32m      1\u001b[0m dom \u001b[38;5;241m=\u001b[39m end_points[\u001b[38;5;241m0\u001b[39m]\n\u001b[0;32m----> 2\u001b[0m shifted_nodes \u001b[38;5;241m=\u001b[39m end_points[:, \u001b[38;5;241m0\u001b[39m] \u001b[38;5;241m+\u001b[39m (leggauss_nodes \u001b[38;5;241m+\u001b[39m \u001b[38;5;241m1\u001b[39m) \u001b[38;5;241m*\u001b[39m np\u001b[38;5;241m.\u001b[39mdiff(x_coords) \u001b[38;5;241m/\u001b[39m \u001b[38;5;241m2\u001b[39m\n\u001b[1;32m      3\u001b[0m shifted_nodes\n",
      "\u001b[0;31mIndexError\u001b[0m: too many indices for array: array is 1-dimensional, but 2 were indexed"
     ]
    }
   ],
   "source": [
    "dom = end_points[0]\n",
    "shifted_nodes = end_points[:, 0] + (leggauss_nodes + 1) * np.diff(x_coords) / 2\n",
    "shifted_nodes"
   ]
  },
  {
   "cell_type": "code",
   "execution_count": 22,
   "id": "3cacef02-8679-41cf-9289-dfc359f32af0",
   "metadata": {},
   "outputs": [
    {
     "ename": "ValueError",
     "evalue": "setting an array element with a sequence. The requested array has an inhomogeneous shape after 2 dimensions. The detected shape was (2, 10) + inhomogeneous part.",
     "output_type": "error",
     "traceback": [
      "\u001b[0;31m---------------------------------------------------------------------------\u001b[0m",
      "\u001b[0;31mValueError\u001b[0m                                Traceback (most recent call last)",
      "Cell \u001b[0;32mIn[22], line 1\u001b[0m\n\u001b[0;32m----> 1\u001b[0m np\u001b[38;5;241m.\u001b[39msum([np\u001b[38;5;241m.\u001b[39marray([np\u001b[38;5;241m.\u001b[39mdiff(end_points)])\u001b[38;5;241m.\u001b[39mT \u001b[38;5;241m@\u001b[39m np\u001b[38;5;241m.\u001b[39marray([leggauss_nodes \u001b[38;5;241m+\u001b[39m \u001b[38;5;241m1\u001b[39m]), end_points[:\u001b[38;5;241m-\u001b[39m\u001b[38;5;241m1\u001b[39m]], axis\u001b[38;5;241m=\u001b[39m\u001b[38;5;241m0\u001b[39m)\n",
      "File \u001b[0;32m/opt/anaconda3/lib/python3.11/site-packages/numpy/core/fromnumeric.py:2313\u001b[0m, in \u001b[0;36msum\u001b[0;34m(a, axis, dtype, out, keepdims, initial, where)\u001b[0m\n\u001b[1;32m   2310\u001b[0m         \u001b[38;5;28;01mreturn\u001b[39;00m out\n\u001b[1;32m   2311\u001b[0m     \u001b[38;5;28;01mreturn\u001b[39;00m res\n\u001b[0;32m-> 2313\u001b[0m \u001b[38;5;28;01mreturn\u001b[39;00m _wrapreduction(a, np\u001b[38;5;241m.\u001b[39madd, \u001b[38;5;124m'\u001b[39m\u001b[38;5;124msum\u001b[39m\u001b[38;5;124m'\u001b[39m, axis, dtype, out, keepdims\u001b[38;5;241m=\u001b[39mkeepdims,\n\u001b[1;32m   2314\u001b[0m                       initial\u001b[38;5;241m=\u001b[39minitial, where\u001b[38;5;241m=\u001b[39mwhere)\n",
      "File \u001b[0;32m/opt/anaconda3/lib/python3.11/site-packages/numpy/core/fromnumeric.py:88\u001b[0m, in \u001b[0;36m_wrapreduction\u001b[0;34m(obj, ufunc, method, axis, dtype, out, **kwargs)\u001b[0m\n\u001b[1;32m     85\u001b[0m         \u001b[38;5;28;01melse\u001b[39;00m:\n\u001b[1;32m     86\u001b[0m             \u001b[38;5;28;01mreturn\u001b[39;00m reduction(axis\u001b[38;5;241m=\u001b[39maxis, out\u001b[38;5;241m=\u001b[39mout, \u001b[38;5;241m*\u001b[39m\u001b[38;5;241m*\u001b[39mpasskwargs)\n\u001b[0;32m---> 88\u001b[0m \u001b[38;5;28;01mreturn\u001b[39;00m ufunc\u001b[38;5;241m.\u001b[39mreduce(obj, axis, dtype, out, \u001b[38;5;241m*\u001b[39m\u001b[38;5;241m*\u001b[39mpasskwargs)\n",
      "\u001b[0;31mValueError\u001b[0m: setting an array element with a sequence. The requested array has an inhomogeneous shape after 2 dimensions. The detected shape was (2, 10) + inhomogeneous part."
     ]
    }
   ],
   "source": [
    "np.sum([np.array([np.diff(end_points)]).T @ np.array([leggauss_nodes + 1]), end_points[:-1]], axis=0)"
   ]
  },
  {
   "cell_type": "code",
   "execution_count": 26,
   "id": "c65474d4-922d-4c84-b9a8-ed569f2d25fa",
   "metadata": {},
   "outputs": [],
   "source": [
    " transformed_nodes = (np.array((0.5*np.array([np.diff(end_points)])).T @ [leggauss_nodes + 1]) + end_points[:-1][:, np.newaxis])"
   ]
  },
  {
   "cell_type": "code",
   "execution_count": 28,
   "id": "9e59e03a-ff10-47e5-97e6-04ee9a30fccc",
   "metadata": {},
   "outputs": [
    {
     "data": {
      "text/plain": [
       "array([[  1.75747393,   6.01113089],\n",
       "       [  8.0771654 ,   8.8239821 ],\n",
       "       [  7.73780348,   4.3620822 ],\n",
       "       [  1.01916814,  -3.69604693],\n",
       "       [ -6.53969947,  -8.70704595],\n",
       "       [-17.4140919 , -13.07939895],\n",
       "       [ -7.39209385,   2.03833628],\n",
       "       [  8.7241644 ,  15.47560695],\n",
       "       [ 17.64796419,  16.1543308 ],\n",
       "       [ 12.02226177,   3.51494785]])"
      ]
     },
     "execution_count": 28,
     "metadata": {},
     "output_type": "execute_result"
    }
   ],
   "source": [
    "source_component = np.diff(end_points)[:, np.newaxis] * TestParams.source(transformed_nodes)\n",
    "source_component"
   ]
  },
  {
   "cell_type": "code",
   "execution_count": 41,
   "id": "6aeae531-2d4a-4bb9-b4b3-03bf236dd7a9",
   "metadata": {},
   "outputs": [
    {
     "name": "stdout",
     "output_type": "stream",
     "text": [
      "[[  0.06684247   5.17906988   2.52269246]\n",
      " [  2.6012705   11.26743166   3.03244533]\n",
      " [  2.99113441   8.06659045   1.04216082]\n",
      " [  0.91501888  -1.78458586  -1.80731181]\n",
      " [ -1.9154652  -10.16449695  -3.16678327]\n",
      " [ -6.33356654 -20.32899389  -3.8309304 ]\n",
      " [ -3.61462362  -3.56917172   1.83003776]\n",
      " [  2.08432164  16.1331809    5.98226881]\n",
      " [  6.06489065  22.53486333   5.20254101]\n",
      " [  5.04538493  10.35813975   0.13368495]]\n"
     ]
    }
   ],
   "source": [
    "print(source_component @ int_factors.T)"
   ]
  },
  {
   "cell_type": "code",
   "execution_count": 40,
   "id": "a473c08b-bb42-40dc-ad54-821ec4f98af9",
   "metadata": {},
   "outputs": [
    {
     "name": "stdout",
     "output_type": "stream",
     "text": [
      "[[ 0  1  2]\n",
      " [ 2  3  4]\n",
      " [ 4  5  6]\n",
      " [ 6  7  8]\n",
      " [ 8  9 10]\n",
      " [10 11 12]\n",
      " [12 13 14]\n",
      " [14 15 16]\n",
      " [16 17 18]\n",
      " [18 19 20]]\n"
     ]
    }
   ],
   "source": [
    "print(elems)"
   ]
  },
  {
   "cell_type": "code",
   "execution_count": 46,
   "id": "b7a75e09-265c-4f7a-9266-f97e6f52901f",
   "metadata": {},
   "outputs": [
    {
     "name": "stdout",
     "output_type": "stream",
     "text": [
      "[ 0  1  2  2  3  4  4  5  6  6  7  8  8  9 10 10 11 12 12 13 14 14 15 16\n",
      " 16 17 18 18 19 20]\n",
      "[  0.06684247   5.17906988   2.52269246   2.6012705   11.26743166\n",
      "   3.03244533   2.99113441   8.06659045   1.04216082   0.91501888\n",
      "  -1.78458586  -1.80731181  -1.9154652  -10.16449695  -3.16678327\n",
      "  -6.33356654 -20.32899389  -3.8309304   -3.61462362  -3.56917172\n",
      "   1.83003776   2.08432164  16.1331809    5.98226881   6.06489065\n",
      "  22.53486333   5.20254101   5.04538493  10.35813975   0.13368495]\n",
      "___\n",
      "\n",
      "[  0.06684247   5.17906988   5.12396296  11.26743166   6.02357974\n",
      "   8.06659045   1.9571797   -1.78458586  -3.72277701 -10.16449695\n",
      "  -9.50034981 -20.32899389  -7.44555402  -3.56917172   3.9143594\n",
      "  16.1331809   12.04715946  22.53486333  10.24792594  10.35813975\n",
      "   0.13368495]\n"
     ]
    }
   ],
   "source": [
    "# Your example A:\n",
    "A = np.array([\n",
    "    [ 0.06684247,   5.17906988,   2.52269246],\n",
    "    [ 2.6012705 ,  11.26743166,   3.03244533],\n",
    "    [ 2.99113441,   8.06659045,   1.04216082],\n",
    "    [ 0.91501888,  -1.78458586,  -1.80731181],\n",
    "    [-1.9154652 , -10.16449695,  -3.16678327],\n",
    "    [-6.33356654, -20.32899389,  -3.8309304 ],\n",
    "    [-3.61462362,  -3.56917172,   1.83003776],\n",
    "    [ 2.08432164,  16.1331809 ,   5.98226881],\n",
    "    [ 6.06489065,  22.53486333,   5.20254101],\n",
    "    [ 5.04538493,  10.35813975,   0.13368495]\n",
    "])\n",
    "\n",
    "# And the indices mapping array you provided:\n",
    "indices = np.array([\n",
    "    [ 0,  1,  2],\n",
    "    [ 2,  3,  4],\n",
    "    [ 4,  5,  6],\n",
    "    [ 6,  7,  8],\n",
    "    [ 8,  9, 10],\n",
    "    [10, 11, 12],\n",
    "    [12, 13, 14],\n",
    "    [14, 15, 16],\n",
    "    [16, 17, 18],\n",
    "    [18, 19, 20]\n",
    "])\n",
    "\n",
    "# Flatten indices and data arrays:\n",
    "flat_indices = indices.ravel()\n",
    "print(flat_indices)\n",
    "flat_values = A.ravel()\n",
    "print(flat_values)\n",
    "print('___')\n",
    "print()\n",
    "\n",
    "# Compute the accumulation using np.bincount:\n",
    "result_length = flat_indices.max() + 1\n",
    "result = np.bincount(flat_indices, weights=flat_values, minlength=result_length)\n",
    "\n",
    "print(result)\n"
   ]
  }
 ],
 "metadata": {
  "kernelspec": {
   "display_name": "Python 3 (ipykernel)",
   "language": "python",
   "name": "python3"
  },
  "language_info": {
   "codemirror_mode": {
    "name": "ipython",
    "version": 3
   },
   "file_extension": ".py",
   "mimetype": "text/x-python",
   "name": "python",
   "nbconvert_exporter": "python",
   "pygments_lexer": "ipython3",
   "version": "3.11.7"
  }
 },
 "nbformat": 4,
 "nbformat_minor": 5
}
