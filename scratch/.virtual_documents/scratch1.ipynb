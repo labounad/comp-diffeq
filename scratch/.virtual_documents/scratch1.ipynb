import os
import sys
module_path = os.path.abspath(os.path.join('..'))
if module_path not in sys.path:
    sys.path.append(module_path)

from fem.fem1d import *


elems = elem_indices(3, 3)
print(elems)


elems[0]


nodes, weights = np.polynomial.legendre.leggauss(2)
plt.plot(nodes, weights)
plt.show()
print(nodes)


p1 = np.polynomial.Polynomial((0, -0.5, 0.5))
p1


p1(0)


p1.domain = np.array([0, 5])
p1(2.5)


b = local_basis(1)
b


leggauss_nodes, leggauss_weights = np.polynomial.legendre.leggauss(1)
np.array([leggauss_weights * p(leggauss_nodes) for p in b])


int_factors = np.array([leggauss_weights * p(leggauss_nodes) for p in b])
int_factors


n_elem = 10
polydeg = 1

x_start = 0
x_end = 1
elems = elem_indices(n_elem, polydeg)
print(elems)

nodes = n_elem * polydeg + 1
x_coords = np.linspace(x_start, x_end, nodes)

end_points = np.append(x_coords[elems[:, 0]], x_coords[-1])
end_points


transformed_nodes = (np.array((0.5*np.array([np.diff(end_points)])).T @ [leggauss_nodes + 1]) + end_points[:-1][:, np.newaxis])
transformed_nodes


source_component = np.diff(end_points)[:, np.newaxis] * Fem1dParams.source(transformed_nodes)
source_component


print(source_component @ int_factors.T)


source_component = prep_gauss_quadrature(Fem1dParams.source, end_points, leggauss_nodes)
integral_matrix = source_component @ int_factors.T
print(source_component)

print(accumulate_by_index(integral_matrix, elems))


print(elems)


# Your example A:
A = np.array([
    [ 0.06684247,   5.17906988,   2.52269246],
    [ 2.6012705 ,  11.26743166,   3.03244533],
    [ 2.99113441,   8.06659045,   1.04216082],
    [ 0.91501888,  -1.78458586,  -1.80731181],
    [-1.9154652 , -10.16449695,  -3.16678327],
    [-6.33356654, -20.32899389,  -3.8309304 ],
    [-3.61462362,  -3.56917172,   1.83003776],
    [ 2.08432164,  16.1331809 ,   5.98226881],
    [ 6.06489065,  22.53486333,   5.20254101],
    [ 5.04538493,  10.35813975,   0.13368495]
])

# And the indices mapping array you provided:
indices = np.array([
    [ 0,  1,  2],
    [ 2,  3,  4],
    [ 4,  5,  6],
    [ 6,  7,  8],
    [ 8,  9, 10],
    [10, 11, 12],
    [12, 13, 14],
    [14, 15, 16],
    [16, 17, 18],
    [18, 19, 20]
])

# Flatten indices and data arrays:
flat_indices = indices.ravel()
print(flat_indices)
flat_values = A.ravel()
print(flat_values)
print('___')
print()

# Compute the accumulation using np.bincount:
result_length = flat_indices.max() + 1
result = np.bincount(flat_indices, weights=flat_values, minlength=result_length)

print(result)


p0, p1 = local_basis(1)
print(p1(0))
print(p1.deriv()(0))
print('\n')
p1.domain = np.array([-1, 1])
print(p1(0))
print(p1.deriv()(0))



vec = np.array([0, 1])

# Generate all unique pairs (i,j) with i <= j
i_indices, j_indices = np.triu_indices(len(vec))

print(np.triu_indices(2))

# Stack pairs into a matrix
pairs = np.column_stack((vec[i_indices], vec[j_indices]))

print(pairs)
