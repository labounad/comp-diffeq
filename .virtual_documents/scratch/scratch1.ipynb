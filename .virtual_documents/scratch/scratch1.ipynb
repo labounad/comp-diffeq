import os
import sys
module_path = os.path.abspath(os.path.join('..'))
if module_path not in sys.path:
    sys.path.append(module_path)

from fem.fem1d import *


elems = elem_indices(3, 3)
print(elems)


elems[0]


nodes, weights = np.polynomial.legendre.leggauss(2)
plt.plot(nodes, weights)
plt.show()
print(nodes)


p1 = np.polynomial.Polynomial((0, -0.5, 0.5))
p1


p1(0)


p1.domain = np.array([0, 5])
p1(2.5)


b = local_basis(2)
b


leggauss_nodes, leggauss_weights = np.polynomial.legendre.leggauss(2)
np.array([leggauss_weights * p(leggauss_nodes) for p in b])


int_factors = np.array([leggauss_weights * p(leggauss_nodes) for p in b])
int_factors


n_elem = 10
polydeg = 2

x_start = 0
x_end = 1
elems = elem_indices(n_elem, polydeg)
print(elems)

nodes = n_elem * polydeg + 1
x_coords = np.linspace(x_start, x_end, nodes)

end_points = np.append(x_coords[elems[:, 0]], x_coords[-1])
end_points


transformed_nodes = (np.array((0.5*np.array([np.diff(end_points)])).T @ [leggauss_nodes + 1]) + end_points[:-1][:, np.newaxis])
transformed_nodes


source_component = np.diff(end_points)[:, np.newaxis] * Fem1dParams.source(transformed_nodes)
source_component


print(source_component @ int_factors.T)


source_component = prep_gauss_quadrature(Fem1dParams.source, end_points, leggauss_nodes)
integral_matrix = source_component @ int_factors.T
print(source_component)

print(accumulate_by_index(integral_matrix, elems))


print(elems)


# Your example A:
A = np.array([
    [ 0.06684247,   5.17906988,   2.52269246],
    [ 2.6012705 ,  11.26743166,   3.03244533],
    [ 2.99113441,   8.06659045,   1.04216082],
    [ 0.91501888,  -1.78458586,  -1.80731181],
    [-1.9154652 , -10.16449695,  -3.16678327],
    [-6.33356654, -20.32899389,  -3.8309304 ],
    [-3.61462362,  -3.56917172,   1.83003776],
    [ 2.08432164,  16.1331809 ,   5.98226881],
    [ 6.06489065,  22.53486333,   5.20254101],
    [ 5.04538493,  10.35813975,   0.13368495]
])

# And the indices mapping array you provided:
indices = np.array([
    [ 0,  1,  2],
    [ 2,  3,  4],
    [ 4,  5,  6],
    [ 6,  7,  8],
    [ 8,  9, 10],
    [10, 11, 12],
    [12, 13, 14],
    [14, 15, 16],
    [16, 17, 18],
    [18, 19, 20]
])

# Flatten indices and data arrays:
flat_indices = indices.ravel()
print(flat_indices)
flat_values = A.ravel()
print(flat_values)
print('___')
print()

# Compute the accumulation using np.bincount:
result_length = flat_indices.max() + 1
result = np.bincount(flat_indices, weights=flat_values, minlength=result_length)

print(result)


p0, p1 = local_basis(1)
print(p1(0))
print(p1.deriv()(0))
print('\n')
p1.domain = np.array([-1, 1])
print(p1(0))
print(p1.deriv()(0))



vec = np.array([0, 1, 2])

# Generate all unique pairs (i,j) with i <= j
i_indices, j_indices = np.triu_indices(len(vec))

print(np.triu_indices(len(vec)))

# Stack pairs into a matrix
pairs = np.column_stack((vec[i_indices], vec[j_indices]))

print(pairs)


basis = local_basis(2)
basis_derivs = [p.deriv() for p in basis] 
basis_deriv_vals = np.array([p(leggauss_nodes) for p in basis_derivs])


np.prod(basis_deriv_vals[pairs], axis=1)


basis1 = local_basis(1)
basis1_derivs = [p.deriv() for p in basis1]
basis1_deriv_vals = np.array([p(leggauss_nodes) for p in basis1_derivs])


vec = np.array([0, 1])

# Generate all unique pairs (i,j) with i <= j
i_indices, j_indices = np.triu_indices(len(vec))

print(np.triu_indices(len(vec)))

# Stack pairs into a matrix
pairs = np.column_stack((vec[i_indices], vec[j_indices]))

print(pairs)

np.prod(basis1_deriv_vals[pairs], axis=1)


D = lambda x: np.ones(x.shape)


end_points


help(prep_gauss_quadrature)
prep_gauss_quadrature(D, end_points, leggauss_nodes) @ np.prod(basis_deriv_vals[pairs], axis=1).T


def build_stiffness_matrix_v3(x_coords, d, elems, diffusion, basis):
    n_nodes = len(x_coords)
    stiff_mat = np.zeros((n_nodes, n_nodes))

    n_leggauss = d
    gauss_nodes, gauss_weights = np.polynomial.legendre.leggauss(n_leggauss)

    for p in basis:
        p.domain = np.array([-1, 1])

    basis_deriv_vals = np.array([
        p.deriv()(gauss_nodes) for p in basis
    ])

    for elem in elems:
        elem_x = x_coords[elem]
        x_start, x_end = elem_x[0], elem_x[-1]

        J = (x_end - x_start) / 2
        inv_J = 1 / J

        phys_pts = J * gauss_nodes + (x_start + x_end) / 2
        diffusion_vals = diffusion(phys_pts) * gauss_weights * inv_J

        basis_phys_derivs = basis_deriv_vals * inv_J

        # print(basis_phys_derivs)
        # print(basis_phys_derivs.shape)
        # print()
        # print(np.diag(diffusion_vals))
        # print(np.diag(diffusion_vals).shape)
        
        local_stiffness = basis_phys_derivs @ np.diag(diffusion_vals) @ basis_phys_derivs.T * J

        stiff_mat[np.ix_(elem, elem)] += local_stiffness

    return stiff_mat



import pprint
np.set_printoptions(precision=3, suppress=True, linewidth=1000)

build_stiffness_matrix_v3(x_coords, 2, elems, D, basis)

# elem = elems[0]
# print(np.ix_(elem, elem))


help(np.ix_)


x_coords = np.array([0, 0.5, 1])
elems = np.array([[0, 1],
                  [1, 2]])
diffusion = lambda x: np.ones_like(x)
basis = [np.polynomial.Polynomial([0.5, -0.5]), np.polynomial.Polynomial([0.5, 0.5])]

stiff_mat = build_stiffness_matrix(x_coords, 1, elems, basis, diffusion)
stiff_mat


polydeg = 2

n_elem = 5
nodes = n_elem * polydeg + 1
x_coords = np.linspace(0, 1, nodes)
elems = elem_indices(n_elem, polydeg)

diffusion = lambda x: np.ones_like(x)
basis = local_basis(polydeg)

stiff_mat = build_stiffness_matrix(x_coords, polydeg, elems, basis, diffusion)
stiff_mat


x_coords = np.linspace(0, 1, 5)  # 2 quadratic elements → 5 nodes
elems = elem_indices(2, 2)
diffusion = lambda x: np.ones_like(x)
basis = local_basis(2)

stiff_mat = build_stiffness_matrix(x_coords, 2, elems, basis, diffusion)

expected = np.array([
    [ 14/3, -16/3,   2/3,    0,     0],
    [-16/3, 32/3,  -16/3,    0,     0],
    [  2/3, -16/3, 28/3 + 28/3, -16/3, 2/3],
    [  0,    0,  -16/3, 32/3, -16/3],
    [  0,    0,    2/3, -16/3, 14/3]
])

print(expected)
print(stiff_mat)


print((stiff_mat - expected)**2)


import numpy as np
from numpy.polynomial import Polynomial

# === 1. build_stiffness_matrix ===

def build_stiffness_matrix(x_coords, d, elems, basis, diffusion):
    n_nodes = len(x_coords)
    stiff_mat = np.zeros((n_nodes, n_nodes))

    n_leggauss = d
    leggauss_nodes, leggauss_weights = np.polynomial.legendre.leggauss(n_leggauss)

    basis_deriv_vals = np.array([
        p.deriv()(leggauss_nodes) for p in basis  # shape (n_basis, n_quad)
    ])

    for elem in elems:
        elem_x = x_coords[elem]
        x_start, x_end = elem_x[0], elem_x[-1]
        J = (x_end - x_start) / 2
        inv_J = 1 / J

        phys_pts = J * leggauss_nodes + (x_start + x_end) / 2
        weighted_diffusion_vals = diffusion(phys_pts) * leggauss_weights  # shape (n_quad,)

        # ❌ Mistake: using unscaled derivatives on the right
        local_stiffness = (basis_deriv_vals * inv_J) @ np.diag(weighted_diffusion_vals) @ basis_deriv_vals.T

        stiff_mat[np.ix_(elem, elem)] += local_stiffness

    return stiff_mat


# === 2. Define mesh, elements, and quadratic basis ===

x_coords = np.linspace(0, 1, 5)  # 5 nodes → 2 quadratic elements
elems = np.array([[0, 1, 2], [2, 3, 4]])
diffusion = lambda x: np.ones_like(x)

basis = [
    Polynomial([-0.5, 0.5, 0]),   # ξ(ξ - 1)/2
    Polynomial([1.0, 0.0, -1.0]), # 1 - ξ²
    Polynomial([-0.5, -0.5, 0])   # ξ(ξ + 1)/2
]

# === 3. Compute stiffness matrix ===

stiff_matrix_result = build_stiffness_matrix(x_coords, d=2, elems=elems, basis=basis, diffusion=diffusion)
stiff_matrix_result
