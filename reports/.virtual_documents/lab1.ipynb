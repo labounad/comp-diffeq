








import os
import sys
module_path = os.path.abspath(os.path.join('..'))
if module_path not in sys.path:
    sys.path.append(module_path)

from oneD.oneD_galerkin import *








# plot basis functions:
n_elems = 8
nodes = n_elems + 1
x_start = TestParams.X_START
x_end = TestParams.X_END

x_coords = np.linspace(x_start, x_end, nodes)
colors = cycle(['blue', 'green', 'red', 'purple'])
for n in range(nodes):
    col = next(colors)
    if n > 0:
        plt.plot([x_coords[n-1], x_coords[n]], [0,1], color=col)
    if n < n_elems:
        plt.plot([x_coords[n], x_coords[n+1]], [1,0], color=col)
plt.ylim((0,1.5))
plt.show()











TestParams.K_CONST = 15

def constant_diffusion(x):
    return np.ones(len(x))

TestParams.diffusion_function = constant_diffusion

n_elems = [2**i for i in range(2, 13)]
x_start = 0
x_end = 1

residuals = []

for n_elem in n_elems:
    x_coords, u_approx, u_real = galerkin(n_elem, x_start, x_end)
    plt.plot(x_coords, u_approx)

    residuals.append(calc_l2err(x_coords, u_approx, u_real))

x_fine = np.linspace(x_start, x_end, 10 ** 4)
plt.plot(x_fine, TestParams.u_real(x_fine))
plt.ylim((-1.25, 1.25))

plt.xlabel("X")
plt.ylabel("Y")
plt.title("u_real and u_approx")
plt.show()





def step_diffusion(x):
    half_nodes = len(x) // 2
    other_half = len(x) - half_nodes
    return np.concatenate((np.ones(half_nodes), 2 * np.ones(other_half)))

TestParams.K_CONST = 6
TestParams.diffusion_function = step_diffusion

n_elems = [2**i for i in range(4, 13)]

for n_elem in n_elems:
    x_coords, u_approx, u_real = galerkin(n_elem, x_start, x_end)
    plt.plot(x_coords, u_approx)

x_fine = np.linspace(x_start, x_end, 10 ** 4)
plt.ylim((-4, 1))

plt.xlabel("X")
plt.ylabel("Y")
plt.title("u_approx")
plt.show()








residuals = np.array(residuals)
plt.plot(range(2,13), np.log(residuals))
plt.title('$\log \log$ plot of residuals vs number of elements $n$')
plt.xlabel('$\log_2 n$')
plt.show()

ratios = np.divide(residuals[:-1], residuals[1:])
plt.plot(ratios)
plt.title("Residual ratios")
plt.xlim((2,9))
plt.ylim((1.5,4.5))
plt.show()

print(ratios)
